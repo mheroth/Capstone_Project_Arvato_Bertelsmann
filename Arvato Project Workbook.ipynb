{
 "cells": [
  {
   "cell_type": "markdown",
   "metadata": {},
   "source": [
    "# Capstone Project: Create a Customer Segmentation Report for Arvato Financial Services\n",
    "\n",
    "In this project, you will analyze demographics data for customers of a mail-order sales company in Germany, comparing it against demographics information for the general population. You'll use unsupervised learning techniques to perform customer segmentation, identifying the parts of the population that best describe the core customer base of the company. Then, you'll apply what you've learned on a third dataset with demographics information for targets of a marketing campaign for the company, and use a model to predict which individuals are most likely to convert into becoming customers for the company. The data that you will use has been provided by our partners at Bertelsmann Arvato Analytics, and represents a real-life data science task.\n",
    "\n",
    "The versions of those two datasets used in this project will include many more features and has not been pre-cleaned. You are also free to choose whatever approach you'd like to analyzing the data rather than follow pre-determined steps. In your work on this project, make sure that you carefully document your steps and decisions, since your main deliverable for this project will be a blog post reporting your findings."
   ]
  },
  {
   "cell_type": "code",
   "execution_count": 48,
   "metadata": {},
   "outputs": [],
   "source": [
    "# Import necessary libraries\n",
    "import numpy as np\n",
    "import pandas as pd\n",
    "import matplotlib.pyplot as plt\n",
    "import matplotlib.cm as cm\n",
    "from sklearn.preprocessing import StandardScaler\n",
    "from sklearn.cluster import KMeans, MiniBatchKMeans\n",
    "from sklearn.decomposition import PCA\n",
    "from sklearn.preprocessing import Imputer\n",
    "from sklearn.metrics import roc_curve\n",
    "from sklearn.model_selection import GridSearchCV\n",
    "from sklearn.linear_model import LogisticRegression\n",
    "from sklearn.ensemble import RandomForestClassifier\n",
    "from sklearn.ensemble import AdaBoostClassifier\n",
    "from sklearn.ensemble import GradientBoostingClassifier\n",
    "from sklearn.model_selection import train_test_split\n",
    "from sklearn.pipeline import Pipeline\n",
    "from sklearn.ensemble import RandomForestClassifier, GradientBoostingRegressor\n",
    "from sklearn.model_selection import StratifiedKFold\n",
    "from sklearn.model_selection import cross_val_score\n",
    "from sklearn.metrics import roc_auc_score\n",
    "import seaborn as sns\n",
    "\n",
    "# magic word for producing visualizations in notebook\n",
    "%matplotlib inline"
   ]
  },
  {
   "cell_type": "markdown",
   "metadata": {},
   "source": [
    "## Part 0: Get to Know the Data\n",
    "\n",
    "There are four data files associated with this project:\n",
    "\n",
    "- `Udacity_AZDIAS_052018.csv`: Demographics data for the general population of Germany; 891 211 persons (rows) x 366 features (columns).\n",
    "- `Udacity_CUSTOMERS_052018.csv`: Demographics data for customers of a mail-order company; 191 652 persons (rows) x 369 features (columns).\n",
    "- `Udacity_MAILOUT_052018_TRAIN.csv`: Demographics data for individuals who were targets of a marketing campaign; 42 982 persons (rows) x 367 (columns).\n",
    "- `Udacity_MAILOUT_052018_TEST.csv`: Demographics data for individuals who were targets of a marketing campaign; 42 833 persons (rows) x 366 (columns).\n",
    "\n",
    "Each row of the demographics files represents a single person, but also includes information outside of individuals, including information about their household, building, and neighborhood. Use the information from the first two files to figure out how customers (\"CUSTOMERS\") are similar to or differ from the general population at large (\"AZDIAS\"), then use your analysis to make predictions on the other two files (\"MAILOUT\"), predicting which recipients are most likely to become a customer for the mail-order company.\n",
    "\n",
    "The \"CUSTOMERS\" file contains three extra columns ('CUSTOMER_GROUP', 'ONLINE_PURCHASE', and 'PRODUCT_GROUP'), which provide broad information about the customers depicted in the file. The original \"MAILOUT\" file included one additional column, \"RESPONSE\", which indicated whether or not each recipient became a customer of the company. For the \"TRAIN\" subset, this column has been retained, but in the \"TEST\" subset it has been removed; it is against that withheld column that your final predictions will be assessed in the Kaggle competition.\n",
    "\n",
    "Otherwise, all of the remaining columns are the same between the three data files. For more information about the columns depicted in the files, you can refer to two Excel spreadsheets provided in the workspace. [One of them](./DIAS Information Levels - Attributes 2017.xlsx) is a top-level list of attributes and descriptions, organized by informational category. [The other](./DIAS Attributes - Values 2017.xlsx) is a detailed mapping of data values for each feature in alphabetical order.\n",
    "\n",
    "In the below cell, we've provided some initial code to load in the first two datasets. Note for all of the `.csv` data files in this project that they're semicolon (`;`) delimited, so an additional argument in the [`read_csv()`](https://pandas.pydata.org/pandas-docs/stable/generated/pandas.read_csv.html) call has been included to read in the data properly. Also, considering the size of the datasets, it may take some time for them to load completely.\n",
    "\n",
    "You'll notice when the data is loaded in that a warning message will immediately pop up. Before you really start digging into the modeling and analysis, you're going to need to perform some cleaning. Take some time to browse the structure of the data and look over the informational spreadsheets to understand the data values. Make some decisions on which features to keep, which features to drop, and if any revisions need to be made on data formats. It'll be a good idea to create a function with pre-processing steps, since you'll need to clean all of the datasets before you work with them."
   ]
  },
  {
   "cell_type": "code",
   "execution_count": 2,
   "metadata": {},
   "outputs": [
    {
     "name": "stderr",
     "output_type": "stream",
     "text": [
      "/opt/conda/lib/python3.6/site-packages/IPython/core/interactiveshell.py:2785: DtypeWarning: Columns (18,19) have mixed types. Specify dtype option on import or set low_memory=False.\n",
      "  interactivity=interactivity, compiler=compiler, result=result)\n"
     ]
    }
   ],
   "source": [
    "# load in the data\n",
    "azdias = pd.read_csv('../../data/Term2/capstone/arvato_data/Udacity_AZDIAS_052018.csv', sep=';')\n",
    "customers = pd.read_csv('../../data/Term2/capstone/arvato_data/Udacity_CUSTOMERS_052018.csv', sep=';')"
   ]
  },
  {
   "cell_type": "markdown",
   "metadata": {},
   "source": [
    "## Part 1: Customer Segmentation Report\n",
    "\n",
    "The main bulk of your analysis will come in this part of the project. Here, you should use unsupervised learning techniques to describe the relationship between the demographics of the company's existing customers and the general population of Germany. By the end of this part, you should be able to describe parts of the general population that are more likely to be part of the mail-order company's main customer base, and which parts of the general population are less so."
   ]
  },
  {
   "cell_type": "markdown",
   "metadata": {},
   "source": [
    "## Data Exploration\n",
    "\n",
    "At the beginning, we take a closer look at the existing data and try to work out differences in the general population and the customer population."
   ]
  },
  {
   "cell_type": "code",
   "execution_count": 3,
   "metadata": {},
   "outputs": [
    {
     "data": {
      "text/html": [
       "<div>\n",
       "<style scoped>\n",
       "    .dataframe tbody tr th:only-of-type {\n",
       "        vertical-align: middle;\n",
       "    }\n",
       "\n",
       "    .dataframe tbody tr th {\n",
       "        vertical-align: top;\n",
       "    }\n",
       "\n",
       "    .dataframe thead th {\n",
       "        text-align: right;\n",
       "    }\n",
       "</style>\n",
       "<table border=\"1\" class=\"dataframe\">\n",
       "  <thead>\n",
       "    <tr style=\"text-align: right;\">\n",
       "      <th></th>\n",
       "      <th>LNR</th>\n",
       "      <th>AGER_TYP</th>\n",
       "      <th>AKT_DAT_KL</th>\n",
       "      <th>ALTER_HH</th>\n",
       "      <th>ALTER_KIND1</th>\n",
       "      <th>ALTER_KIND2</th>\n",
       "      <th>ALTER_KIND3</th>\n",
       "      <th>ALTER_KIND4</th>\n",
       "      <th>ALTERSKATEGORIE_FEIN</th>\n",
       "      <th>ANZ_HAUSHALTE_AKTIV</th>\n",
       "      <th>...</th>\n",
       "      <th>VHN</th>\n",
       "      <th>VK_DHT4A</th>\n",
       "      <th>VK_DISTANZ</th>\n",
       "      <th>VK_ZG11</th>\n",
       "      <th>W_KEIT_KIND_HH</th>\n",
       "      <th>WOHNDAUER_2008</th>\n",
       "      <th>WOHNLAGE</th>\n",
       "      <th>ZABEOTYP</th>\n",
       "      <th>ANREDE_KZ</th>\n",
       "      <th>ALTERSKATEGORIE_GROB</th>\n",
       "    </tr>\n",
       "  </thead>\n",
       "  <tbody>\n",
       "    <tr>\n",
       "      <th>0</th>\n",
       "      <td>910215</td>\n",
       "      <td>-1</td>\n",
       "      <td>NaN</td>\n",
       "      <td>NaN</td>\n",
       "      <td>NaN</td>\n",
       "      <td>NaN</td>\n",
       "      <td>NaN</td>\n",
       "      <td>NaN</td>\n",
       "      <td>NaN</td>\n",
       "      <td>NaN</td>\n",
       "      <td>...</td>\n",
       "      <td>NaN</td>\n",
       "      <td>NaN</td>\n",
       "      <td>NaN</td>\n",
       "      <td>NaN</td>\n",
       "      <td>NaN</td>\n",
       "      <td>NaN</td>\n",
       "      <td>NaN</td>\n",
       "      <td>3</td>\n",
       "      <td>1</td>\n",
       "      <td>2</td>\n",
       "    </tr>\n",
       "    <tr>\n",
       "      <th>1</th>\n",
       "      <td>910220</td>\n",
       "      <td>-1</td>\n",
       "      <td>9.0</td>\n",
       "      <td>0.0</td>\n",
       "      <td>NaN</td>\n",
       "      <td>NaN</td>\n",
       "      <td>NaN</td>\n",
       "      <td>NaN</td>\n",
       "      <td>21.0</td>\n",
       "      <td>11.0</td>\n",
       "      <td>...</td>\n",
       "      <td>4.0</td>\n",
       "      <td>8.0</td>\n",
       "      <td>11.0</td>\n",
       "      <td>10.0</td>\n",
       "      <td>3.0</td>\n",
       "      <td>9.0</td>\n",
       "      <td>4.0</td>\n",
       "      <td>5</td>\n",
       "      <td>2</td>\n",
       "      <td>1</td>\n",
       "    </tr>\n",
       "    <tr>\n",
       "      <th>2</th>\n",
       "      <td>910225</td>\n",
       "      <td>-1</td>\n",
       "      <td>9.0</td>\n",
       "      <td>17.0</td>\n",
       "      <td>NaN</td>\n",
       "      <td>NaN</td>\n",
       "      <td>NaN</td>\n",
       "      <td>NaN</td>\n",
       "      <td>17.0</td>\n",
       "      <td>10.0</td>\n",
       "      <td>...</td>\n",
       "      <td>2.0</td>\n",
       "      <td>9.0</td>\n",
       "      <td>9.0</td>\n",
       "      <td>6.0</td>\n",
       "      <td>3.0</td>\n",
       "      <td>9.0</td>\n",
       "      <td>2.0</td>\n",
       "      <td>5</td>\n",
       "      <td>2</td>\n",
       "      <td>3</td>\n",
       "    </tr>\n",
       "    <tr>\n",
       "      <th>3</th>\n",
       "      <td>910226</td>\n",
       "      <td>2</td>\n",
       "      <td>1.0</td>\n",
       "      <td>13.0</td>\n",
       "      <td>NaN</td>\n",
       "      <td>NaN</td>\n",
       "      <td>NaN</td>\n",
       "      <td>NaN</td>\n",
       "      <td>13.0</td>\n",
       "      <td>1.0</td>\n",
       "      <td>...</td>\n",
       "      <td>0.0</td>\n",
       "      <td>7.0</td>\n",
       "      <td>10.0</td>\n",
       "      <td>11.0</td>\n",
       "      <td>NaN</td>\n",
       "      <td>9.0</td>\n",
       "      <td>7.0</td>\n",
       "      <td>3</td>\n",
       "      <td>2</td>\n",
       "      <td>4</td>\n",
       "    </tr>\n",
       "    <tr>\n",
       "      <th>4</th>\n",
       "      <td>910241</td>\n",
       "      <td>-1</td>\n",
       "      <td>1.0</td>\n",
       "      <td>20.0</td>\n",
       "      <td>NaN</td>\n",
       "      <td>NaN</td>\n",
       "      <td>NaN</td>\n",
       "      <td>NaN</td>\n",
       "      <td>14.0</td>\n",
       "      <td>3.0</td>\n",
       "      <td>...</td>\n",
       "      <td>2.0</td>\n",
       "      <td>3.0</td>\n",
       "      <td>5.0</td>\n",
       "      <td>4.0</td>\n",
       "      <td>2.0</td>\n",
       "      <td>9.0</td>\n",
       "      <td>3.0</td>\n",
       "      <td>4</td>\n",
       "      <td>1</td>\n",
       "      <td>3</td>\n",
       "    </tr>\n",
       "  </tbody>\n",
       "</table>\n",
       "<p>5 rows × 366 columns</p>\n",
       "</div>"
      ],
      "text/plain": [
       "      LNR  AGER_TYP  AKT_DAT_KL  ALTER_HH  ALTER_KIND1  ALTER_KIND2  \\\n",
       "0  910215        -1         NaN       NaN          NaN          NaN   \n",
       "1  910220        -1         9.0       0.0          NaN          NaN   \n",
       "2  910225        -1         9.0      17.0          NaN          NaN   \n",
       "3  910226         2         1.0      13.0          NaN          NaN   \n",
       "4  910241        -1         1.0      20.0          NaN          NaN   \n",
       "\n",
       "   ALTER_KIND3  ALTER_KIND4  ALTERSKATEGORIE_FEIN  ANZ_HAUSHALTE_AKTIV  \\\n",
       "0          NaN          NaN                   NaN                  NaN   \n",
       "1          NaN          NaN                  21.0                 11.0   \n",
       "2          NaN          NaN                  17.0                 10.0   \n",
       "3          NaN          NaN                  13.0                  1.0   \n",
       "4          NaN          NaN                  14.0                  3.0   \n",
       "\n",
       "          ...           VHN  VK_DHT4A  VK_DISTANZ  VK_ZG11  W_KEIT_KIND_HH  \\\n",
       "0         ...           NaN       NaN         NaN      NaN             NaN   \n",
       "1         ...           4.0       8.0        11.0     10.0             3.0   \n",
       "2         ...           2.0       9.0         9.0      6.0             3.0   \n",
       "3         ...           0.0       7.0        10.0     11.0             NaN   \n",
       "4         ...           2.0       3.0         5.0      4.0             2.0   \n",
       "\n",
       "   WOHNDAUER_2008  WOHNLAGE ZABEOTYP ANREDE_KZ ALTERSKATEGORIE_GROB  \n",
       "0             NaN       NaN        3         1                    2  \n",
       "1             9.0       4.0        5         2                    1  \n",
       "2             9.0       2.0        5         2                    3  \n",
       "3             9.0       7.0        3         2                    4  \n",
       "4             9.0       3.0        4         1                    3  \n",
       "\n",
       "[5 rows x 366 columns]"
      ]
     },
     "execution_count": 3,
     "metadata": {},
     "output_type": "execute_result"
    }
   ],
   "source": [
    "# Show head of general population dataset\n",
    "azdias.head()"
   ]
  },
  {
   "cell_type": "code",
   "execution_count": 4,
   "metadata": {},
   "outputs": [
    {
     "data": {
      "text/html": [
       "<div>\n",
       "<style scoped>\n",
       "    .dataframe tbody tr th:only-of-type {\n",
       "        vertical-align: middle;\n",
       "    }\n",
       "\n",
       "    .dataframe tbody tr th {\n",
       "        vertical-align: top;\n",
       "    }\n",
       "\n",
       "    .dataframe thead th {\n",
       "        text-align: right;\n",
       "    }\n",
       "</style>\n",
       "<table border=\"1\" class=\"dataframe\">\n",
       "  <thead>\n",
       "    <tr style=\"text-align: right;\">\n",
       "      <th></th>\n",
       "      <th>LNR</th>\n",
       "      <th>AGER_TYP</th>\n",
       "      <th>AKT_DAT_KL</th>\n",
       "      <th>ALTER_HH</th>\n",
       "      <th>ALTER_KIND1</th>\n",
       "      <th>ALTER_KIND2</th>\n",
       "      <th>ALTER_KIND3</th>\n",
       "      <th>ALTER_KIND4</th>\n",
       "      <th>ALTERSKATEGORIE_FEIN</th>\n",
       "      <th>ANZ_HAUSHALTE_AKTIV</th>\n",
       "      <th>...</th>\n",
       "      <th>VHN</th>\n",
       "      <th>VK_DHT4A</th>\n",
       "      <th>VK_DISTANZ</th>\n",
       "      <th>VK_ZG11</th>\n",
       "      <th>W_KEIT_KIND_HH</th>\n",
       "      <th>WOHNDAUER_2008</th>\n",
       "      <th>WOHNLAGE</th>\n",
       "      <th>ZABEOTYP</th>\n",
       "      <th>ANREDE_KZ</th>\n",
       "      <th>ALTERSKATEGORIE_GROB</th>\n",
       "    </tr>\n",
       "  </thead>\n",
       "  <tbody>\n",
       "    <tr>\n",
       "      <th>count</th>\n",
       "      <td>8.912210e+05</td>\n",
       "      <td>891221.000000</td>\n",
       "      <td>817722.000000</td>\n",
       "      <td>817722.000000</td>\n",
       "      <td>81058.000000</td>\n",
       "      <td>29499.000000</td>\n",
       "      <td>6170.000000</td>\n",
       "      <td>1205.000000</td>\n",
       "      <td>628274.000000</td>\n",
       "      <td>798073.000000</td>\n",
       "      <td>...</td>\n",
       "      <td>770025.000000</td>\n",
       "      <td>815304.000000</td>\n",
       "      <td>815304.000000</td>\n",
       "      <td>815304.000000</td>\n",
       "      <td>783619.000000</td>\n",
       "      <td>817722.000000</td>\n",
       "      <td>798073.000000</td>\n",
       "      <td>891221.000000</td>\n",
       "      <td>891221.000000</td>\n",
       "      <td>891221.000000</td>\n",
       "    </tr>\n",
       "    <tr>\n",
       "      <th>mean</th>\n",
       "      <td>6.372630e+05</td>\n",
       "      <td>-0.358435</td>\n",
       "      <td>4.421928</td>\n",
       "      <td>10.864126</td>\n",
       "      <td>11.745392</td>\n",
       "      <td>13.402658</td>\n",
       "      <td>14.476013</td>\n",
       "      <td>15.089627</td>\n",
       "      <td>13.700717</td>\n",
       "      <td>8.287263</td>\n",
       "      <td>...</td>\n",
       "      <td>2.417322</td>\n",
       "      <td>6.001214</td>\n",
       "      <td>7.532130</td>\n",
       "      <td>5.945972</td>\n",
       "      <td>3.933406</td>\n",
       "      <td>7.908791</td>\n",
       "      <td>4.052836</td>\n",
       "      <td>3.362438</td>\n",
       "      <td>1.522098</td>\n",
       "      <td>2.777398</td>\n",
       "    </tr>\n",
       "    <tr>\n",
       "      <th>std</th>\n",
       "      <td>2.572735e+05</td>\n",
       "      <td>1.198724</td>\n",
       "      <td>3.638805</td>\n",
       "      <td>7.639683</td>\n",
       "      <td>4.097660</td>\n",
       "      <td>3.243300</td>\n",
       "      <td>2.712427</td>\n",
       "      <td>2.452932</td>\n",
       "      <td>5.079849</td>\n",
       "      <td>15.628087</td>\n",
       "      <td>...</td>\n",
       "      <td>1.166572</td>\n",
       "      <td>2.856091</td>\n",
       "      <td>3.247789</td>\n",
       "      <td>2.771464</td>\n",
       "      <td>1.964701</td>\n",
       "      <td>1.923137</td>\n",
       "      <td>1.949539</td>\n",
       "      <td>1.352704</td>\n",
       "      <td>0.499512</td>\n",
       "      <td>1.068775</td>\n",
       "    </tr>\n",
       "    <tr>\n",
       "      <th>min</th>\n",
       "      <td>1.916530e+05</td>\n",
       "      <td>-1.000000</td>\n",
       "      <td>1.000000</td>\n",
       "      <td>0.000000</td>\n",
       "      <td>2.000000</td>\n",
       "      <td>2.000000</td>\n",
       "      <td>4.000000</td>\n",
       "      <td>7.000000</td>\n",
       "      <td>0.000000</td>\n",
       "      <td>0.000000</td>\n",
       "      <td>...</td>\n",
       "      <td>0.000000</td>\n",
       "      <td>1.000000</td>\n",
       "      <td>1.000000</td>\n",
       "      <td>1.000000</td>\n",
       "      <td>0.000000</td>\n",
       "      <td>1.000000</td>\n",
       "      <td>0.000000</td>\n",
       "      <td>1.000000</td>\n",
       "      <td>1.000000</td>\n",
       "      <td>1.000000</td>\n",
       "    </tr>\n",
       "    <tr>\n",
       "      <th>25%</th>\n",
       "      <td>4.144580e+05</td>\n",
       "      <td>-1.000000</td>\n",
       "      <td>1.000000</td>\n",
       "      <td>0.000000</td>\n",
       "      <td>8.000000</td>\n",
       "      <td>11.000000</td>\n",
       "      <td>13.000000</td>\n",
       "      <td>14.000000</td>\n",
       "      <td>11.000000</td>\n",
       "      <td>1.000000</td>\n",
       "      <td>...</td>\n",
       "      <td>2.000000</td>\n",
       "      <td>3.000000</td>\n",
       "      <td>5.000000</td>\n",
       "      <td>4.000000</td>\n",
       "      <td>2.000000</td>\n",
       "      <td>8.000000</td>\n",
       "      <td>3.000000</td>\n",
       "      <td>3.000000</td>\n",
       "      <td>1.000000</td>\n",
       "      <td>2.000000</td>\n",
       "    </tr>\n",
       "    <tr>\n",
       "      <th>50%</th>\n",
       "      <td>6.372630e+05</td>\n",
       "      <td>-1.000000</td>\n",
       "      <td>3.000000</td>\n",
       "      <td>13.000000</td>\n",
       "      <td>12.000000</td>\n",
       "      <td>14.000000</td>\n",
       "      <td>15.000000</td>\n",
       "      <td>15.000000</td>\n",
       "      <td>14.000000</td>\n",
       "      <td>4.000000</td>\n",
       "      <td>...</td>\n",
       "      <td>2.000000</td>\n",
       "      <td>6.000000</td>\n",
       "      <td>8.000000</td>\n",
       "      <td>6.000000</td>\n",
       "      <td>4.000000</td>\n",
       "      <td>9.000000</td>\n",
       "      <td>3.000000</td>\n",
       "      <td>3.000000</td>\n",
       "      <td>2.000000</td>\n",
       "      <td>3.000000</td>\n",
       "    </tr>\n",
       "    <tr>\n",
       "      <th>75%</th>\n",
       "      <td>8.600680e+05</td>\n",
       "      <td>-1.000000</td>\n",
       "      <td>9.000000</td>\n",
       "      <td>17.000000</td>\n",
       "      <td>15.000000</td>\n",
       "      <td>16.000000</td>\n",
       "      <td>17.000000</td>\n",
       "      <td>17.000000</td>\n",
       "      <td>17.000000</td>\n",
       "      <td>9.000000</td>\n",
       "      <td>...</td>\n",
       "      <td>3.000000</td>\n",
       "      <td>9.000000</td>\n",
       "      <td>10.000000</td>\n",
       "      <td>8.000000</td>\n",
       "      <td>6.000000</td>\n",
       "      <td>9.000000</td>\n",
       "      <td>5.000000</td>\n",
       "      <td>4.000000</td>\n",
       "      <td>2.000000</td>\n",
       "      <td>4.000000</td>\n",
       "    </tr>\n",
       "    <tr>\n",
       "      <th>max</th>\n",
       "      <td>1.082873e+06</td>\n",
       "      <td>3.000000</td>\n",
       "      <td>9.000000</td>\n",
       "      <td>21.000000</td>\n",
       "      <td>18.000000</td>\n",
       "      <td>18.000000</td>\n",
       "      <td>18.000000</td>\n",
       "      <td>18.000000</td>\n",
       "      <td>25.000000</td>\n",
       "      <td>595.000000</td>\n",
       "      <td>...</td>\n",
       "      <td>4.000000</td>\n",
       "      <td>11.000000</td>\n",
       "      <td>13.000000</td>\n",
       "      <td>11.000000</td>\n",
       "      <td>6.000000</td>\n",
       "      <td>9.000000</td>\n",
       "      <td>8.000000</td>\n",
       "      <td>6.000000</td>\n",
       "      <td>2.000000</td>\n",
       "      <td>9.000000</td>\n",
       "    </tr>\n",
       "  </tbody>\n",
       "</table>\n",
       "<p>8 rows × 360 columns</p>\n",
       "</div>"
      ],
      "text/plain": [
       "                LNR       AGER_TYP     AKT_DAT_KL       ALTER_HH  \\\n",
       "count  8.912210e+05  891221.000000  817722.000000  817722.000000   \n",
       "mean   6.372630e+05      -0.358435       4.421928      10.864126   \n",
       "std    2.572735e+05       1.198724       3.638805       7.639683   \n",
       "min    1.916530e+05      -1.000000       1.000000       0.000000   \n",
       "25%    4.144580e+05      -1.000000       1.000000       0.000000   \n",
       "50%    6.372630e+05      -1.000000       3.000000      13.000000   \n",
       "75%    8.600680e+05      -1.000000       9.000000      17.000000   \n",
       "max    1.082873e+06       3.000000       9.000000      21.000000   \n",
       "\n",
       "        ALTER_KIND1   ALTER_KIND2  ALTER_KIND3  ALTER_KIND4  \\\n",
       "count  81058.000000  29499.000000  6170.000000  1205.000000   \n",
       "mean      11.745392     13.402658    14.476013    15.089627   \n",
       "std        4.097660      3.243300     2.712427     2.452932   \n",
       "min        2.000000      2.000000     4.000000     7.000000   \n",
       "25%        8.000000     11.000000    13.000000    14.000000   \n",
       "50%       12.000000     14.000000    15.000000    15.000000   \n",
       "75%       15.000000     16.000000    17.000000    17.000000   \n",
       "max       18.000000     18.000000    18.000000    18.000000   \n",
       "\n",
       "       ALTERSKATEGORIE_FEIN  ANZ_HAUSHALTE_AKTIV          ...           \\\n",
       "count         628274.000000        798073.000000          ...            \n",
       "mean              13.700717             8.287263          ...            \n",
       "std                5.079849            15.628087          ...            \n",
       "min                0.000000             0.000000          ...            \n",
       "25%               11.000000             1.000000          ...            \n",
       "50%               14.000000             4.000000          ...            \n",
       "75%               17.000000             9.000000          ...            \n",
       "max               25.000000           595.000000          ...            \n",
       "\n",
       "                 VHN       VK_DHT4A     VK_DISTANZ        VK_ZG11  \\\n",
       "count  770025.000000  815304.000000  815304.000000  815304.000000   \n",
       "mean        2.417322       6.001214       7.532130       5.945972   \n",
       "std         1.166572       2.856091       3.247789       2.771464   \n",
       "min         0.000000       1.000000       1.000000       1.000000   \n",
       "25%         2.000000       3.000000       5.000000       4.000000   \n",
       "50%         2.000000       6.000000       8.000000       6.000000   \n",
       "75%         3.000000       9.000000      10.000000       8.000000   \n",
       "max         4.000000      11.000000      13.000000      11.000000   \n",
       "\n",
       "       W_KEIT_KIND_HH  WOHNDAUER_2008       WOHNLAGE       ZABEOTYP  \\\n",
       "count   783619.000000   817722.000000  798073.000000  891221.000000   \n",
       "mean         3.933406        7.908791       4.052836       3.362438   \n",
       "std          1.964701        1.923137       1.949539       1.352704   \n",
       "min          0.000000        1.000000       0.000000       1.000000   \n",
       "25%          2.000000        8.000000       3.000000       3.000000   \n",
       "50%          4.000000        9.000000       3.000000       3.000000   \n",
       "75%          6.000000        9.000000       5.000000       4.000000   \n",
       "max          6.000000        9.000000       8.000000       6.000000   \n",
       "\n",
       "           ANREDE_KZ  ALTERSKATEGORIE_GROB  \n",
       "count  891221.000000         891221.000000  \n",
       "mean        1.522098              2.777398  \n",
       "std         0.499512              1.068775  \n",
       "min         1.000000              1.000000  \n",
       "25%         1.000000              2.000000  \n",
       "50%         2.000000              3.000000  \n",
       "75%         2.000000              4.000000  \n",
       "max         2.000000              9.000000  \n",
       "\n",
       "[8 rows x 360 columns]"
      ]
     },
     "execution_count": 4,
     "metadata": {},
     "output_type": "execute_result"
    }
   ],
   "source": [
    "# Show description of general population dataset\n",
    "azdias.describe()"
   ]
  },
  {
   "cell_type": "code",
   "execution_count": 5,
   "metadata": {},
   "outputs": [
    {
     "name": "stdout",
     "output_type": "stream",
     "text": [
      "<class 'pandas.core.frame.DataFrame'>\n",
      "RangeIndex: 891221 entries, 0 to 891220\n",
      "Columns: 366 entries, LNR to ALTERSKATEGORIE_GROB\n",
      "dtypes: float64(267), int64(93), object(6)\n",
      "memory usage: 2.4+ GB\n"
     ]
    }
   ],
   "source": [
    "# Show info of general population dataset\n",
    "azdias.info()"
   ]
  },
  {
   "cell_type": "code",
   "execution_count": 6,
   "metadata": {},
   "outputs": [
    {
     "data": {
      "text/html": [
       "<div>\n",
       "<style scoped>\n",
       "    .dataframe tbody tr th:only-of-type {\n",
       "        vertical-align: middle;\n",
       "    }\n",
       "\n",
       "    .dataframe tbody tr th {\n",
       "        vertical-align: top;\n",
       "    }\n",
       "\n",
       "    .dataframe thead th {\n",
       "        text-align: right;\n",
       "    }\n",
       "</style>\n",
       "<table border=\"1\" class=\"dataframe\">\n",
       "  <thead>\n",
       "    <tr style=\"text-align: right;\">\n",
       "      <th></th>\n",
       "      <th>LNR</th>\n",
       "      <th>AGER_TYP</th>\n",
       "      <th>AKT_DAT_KL</th>\n",
       "      <th>ALTER_HH</th>\n",
       "      <th>ALTER_KIND1</th>\n",
       "      <th>ALTER_KIND2</th>\n",
       "      <th>ALTER_KIND3</th>\n",
       "      <th>ALTER_KIND4</th>\n",
       "      <th>ALTERSKATEGORIE_FEIN</th>\n",
       "      <th>ANZ_HAUSHALTE_AKTIV</th>\n",
       "      <th>...</th>\n",
       "      <th>VK_ZG11</th>\n",
       "      <th>W_KEIT_KIND_HH</th>\n",
       "      <th>WOHNDAUER_2008</th>\n",
       "      <th>WOHNLAGE</th>\n",
       "      <th>ZABEOTYP</th>\n",
       "      <th>PRODUCT_GROUP</th>\n",
       "      <th>CUSTOMER_GROUP</th>\n",
       "      <th>ONLINE_PURCHASE</th>\n",
       "      <th>ANREDE_KZ</th>\n",
       "      <th>ALTERSKATEGORIE_GROB</th>\n",
       "    </tr>\n",
       "  </thead>\n",
       "  <tbody>\n",
       "    <tr>\n",
       "      <th>0</th>\n",
       "      <td>9626</td>\n",
       "      <td>2</td>\n",
       "      <td>1.0</td>\n",
       "      <td>10.0</td>\n",
       "      <td>NaN</td>\n",
       "      <td>NaN</td>\n",
       "      <td>NaN</td>\n",
       "      <td>NaN</td>\n",
       "      <td>10.0</td>\n",
       "      <td>1.0</td>\n",
       "      <td>...</td>\n",
       "      <td>2.0</td>\n",
       "      <td>6.0</td>\n",
       "      <td>9.0</td>\n",
       "      <td>7.0</td>\n",
       "      <td>3</td>\n",
       "      <td>COSMETIC_AND_FOOD</td>\n",
       "      <td>MULTI_BUYER</td>\n",
       "      <td>0</td>\n",
       "      <td>1</td>\n",
       "      <td>4</td>\n",
       "    </tr>\n",
       "    <tr>\n",
       "      <th>1</th>\n",
       "      <td>9628</td>\n",
       "      <td>-1</td>\n",
       "      <td>9.0</td>\n",
       "      <td>11.0</td>\n",
       "      <td>NaN</td>\n",
       "      <td>NaN</td>\n",
       "      <td>NaN</td>\n",
       "      <td>NaN</td>\n",
       "      <td>NaN</td>\n",
       "      <td>NaN</td>\n",
       "      <td>...</td>\n",
       "      <td>3.0</td>\n",
       "      <td>0.0</td>\n",
       "      <td>9.0</td>\n",
       "      <td>NaN</td>\n",
       "      <td>3</td>\n",
       "      <td>FOOD</td>\n",
       "      <td>SINGLE_BUYER</td>\n",
       "      <td>0</td>\n",
       "      <td>1</td>\n",
       "      <td>4</td>\n",
       "    </tr>\n",
       "    <tr>\n",
       "      <th>2</th>\n",
       "      <td>143872</td>\n",
       "      <td>-1</td>\n",
       "      <td>1.0</td>\n",
       "      <td>6.0</td>\n",
       "      <td>NaN</td>\n",
       "      <td>NaN</td>\n",
       "      <td>NaN</td>\n",
       "      <td>NaN</td>\n",
       "      <td>0.0</td>\n",
       "      <td>1.0</td>\n",
       "      <td>...</td>\n",
       "      <td>11.0</td>\n",
       "      <td>6.0</td>\n",
       "      <td>9.0</td>\n",
       "      <td>2.0</td>\n",
       "      <td>3</td>\n",
       "      <td>COSMETIC_AND_FOOD</td>\n",
       "      <td>MULTI_BUYER</td>\n",
       "      <td>0</td>\n",
       "      <td>2</td>\n",
       "      <td>4</td>\n",
       "    </tr>\n",
       "    <tr>\n",
       "      <th>3</th>\n",
       "      <td>143873</td>\n",
       "      <td>1</td>\n",
       "      <td>1.0</td>\n",
       "      <td>8.0</td>\n",
       "      <td>NaN</td>\n",
       "      <td>NaN</td>\n",
       "      <td>NaN</td>\n",
       "      <td>NaN</td>\n",
       "      <td>8.0</td>\n",
       "      <td>0.0</td>\n",
       "      <td>...</td>\n",
       "      <td>2.0</td>\n",
       "      <td>NaN</td>\n",
       "      <td>9.0</td>\n",
       "      <td>7.0</td>\n",
       "      <td>1</td>\n",
       "      <td>COSMETIC</td>\n",
       "      <td>MULTI_BUYER</td>\n",
       "      <td>0</td>\n",
       "      <td>1</td>\n",
       "      <td>4</td>\n",
       "    </tr>\n",
       "    <tr>\n",
       "      <th>4</th>\n",
       "      <td>143874</td>\n",
       "      <td>-1</td>\n",
       "      <td>1.0</td>\n",
       "      <td>20.0</td>\n",
       "      <td>NaN</td>\n",
       "      <td>NaN</td>\n",
       "      <td>NaN</td>\n",
       "      <td>NaN</td>\n",
       "      <td>14.0</td>\n",
       "      <td>7.0</td>\n",
       "      <td>...</td>\n",
       "      <td>4.0</td>\n",
       "      <td>2.0</td>\n",
       "      <td>9.0</td>\n",
       "      <td>3.0</td>\n",
       "      <td>1</td>\n",
       "      <td>FOOD</td>\n",
       "      <td>MULTI_BUYER</td>\n",
       "      <td>0</td>\n",
       "      <td>1</td>\n",
       "      <td>3</td>\n",
       "    </tr>\n",
       "  </tbody>\n",
       "</table>\n",
       "<p>5 rows × 369 columns</p>\n",
       "</div>"
      ],
      "text/plain": [
       "      LNR  AGER_TYP  AKT_DAT_KL  ALTER_HH  ALTER_KIND1  ALTER_KIND2  \\\n",
       "0    9626         2         1.0      10.0          NaN          NaN   \n",
       "1    9628        -1         9.0      11.0          NaN          NaN   \n",
       "2  143872        -1         1.0       6.0          NaN          NaN   \n",
       "3  143873         1         1.0       8.0          NaN          NaN   \n",
       "4  143874        -1         1.0      20.0          NaN          NaN   \n",
       "\n",
       "   ALTER_KIND3  ALTER_KIND4  ALTERSKATEGORIE_FEIN  ANZ_HAUSHALTE_AKTIV  \\\n",
       "0          NaN          NaN                  10.0                  1.0   \n",
       "1          NaN          NaN                   NaN                  NaN   \n",
       "2          NaN          NaN                   0.0                  1.0   \n",
       "3          NaN          NaN                   8.0                  0.0   \n",
       "4          NaN          NaN                  14.0                  7.0   \n",
       "\n",
       "          ...           VK_ZG11  W_KEIT_KIND_HH  WOHNDAUER_2008  WOHNLAGE  \\\n",
       "0         ...               2.0             6.0             9.0       7.0   \n",
       "1         ...               3.0             0.0             9.0       NaN   \n",
       "2         ...              11.0             6.0             9.0       2.0   \n",
       "3         ...               2.0             NaN             9.0       7.0   \n",
       "4         ...               4.0             2.0             9.0       3.0   \n",
       "\n",
       "   ZABEOTYP      PRODUCT_GROUP  CUSTOMER_GROUP ONLINE_PURCHASE ANREDE_KZ  \\\n",
       "0         3  COSMETIC_AND_FOOD     MULTI_BUYER               0         1   \n",
       "1         3               FOOD    SINGLE_BUYER               0         1   \n",
       "2         3  COSMETIC_AND_FOOD     MULTI_BUYER               0         2   \n",
       "3         1           COSMETIC     MULTI_BUYER               0         1   \n",
       "4         1               FOOD     MULTI_BUYER               0         1   \n",
       "\n",
       "  ALTERSKATEGORIE_GROB  \n",
       "0                    4  \n",
       "1                    4  \n",
       "2                    4  \n",
       "3                    4  \n",
       "4                    3  \n",
       "\n",
       "[5 rows x 369 columns]"
      ]
     },
     "execution_count": 6,
     "metadata": {},
     "output_type": "execute_result"
    }
   ],
   "source": [
    "# Show head of customers population dataset\n",
    "customers.head()"
   ]
  },
  {
   "cell_type": "code",
   "execution_count": 7,
   "metadata": {},
   "outputs": [
    {
     "data": {
      "text/html": [
       "<div>\n",
       "<style scoped>\n",
       "    .dataframe tbody tr th:only-of-type {\n",
       "        vertical-align: middle;\n",
       "    }\n",
       "\n",
       "    .dataframe tbody tr th {\n",
       "        vertical-align: top;\n",
       "    }\n",
       "\n",
       "    .dataframe thead th {\n",
       "        text-align: right;\n",
       "    }\n",
       "</style>\n",
       "<table border=\"1\" class=\"dataframe\">\n",
       "  <thead>\n",
       "    <tr style=\"text-align: right;\">\n",
       "      <th></th>\n",
       "      <th>LNR</th>\n",
       "      <th>AGER_TYP</th>\n",
       "      <th>AKT_DAT_KL</th>\n",
       "      <th>ALTER_HH</th>\n",
       "      <th>ALTER_KIND1</th>\n",
       "      <th>ALTER_KIND2</th>\n",
       "      <th>ALTER_KIND3</th>\n",
       "      <th>ALTER_KIND4</th>\n",
       "      <th>ALTERSKATEGORIE_FEIN</th>\n",
       "      <th>ANZ_HAUSHALTE_AKTIV</th>\n",
       "      <th>...</th>\n",
       "      <th>VK_DHT4A</th>\n",
       "      <th>VK_DISTANZ</th>\n",
       "      <th>VK_ZG11</th>\n",
       "      <th>W_KEIT_KIND_HH</th>\n",
       "      <th>WOHNDAUER_2008</th>\n",
       "      <th>WOHNLAGE</th>\n",
       "      <th>ZABEOTYP</th>\n",
       "      <th>ONLINE_PURCHASE</th>\n",
       "      <th>ANREDE_KZ</th>\n",
       "      <th>ALTERSKATEGORIE_GROB</th>\n",
       "    </tr>\n",
       "  </thead>\n",
       "  <tbody>\n",
       "    <tr>\n",
       "      <th>count</th>\n",
       "      <td>191652.000000</td>\n",
       "      <td>191652.000000</td>\n",
       "      <td>145056.000000</td>\n",
       "      <td>145056.000000</td>\n",
       "      <td>11766.000000</td>\n",
       "      <td>5100.000000</td>\n",
       "      <td>1275.000000</td>\n",
       "      <td>236.000000</td>\n",
       "      <td>139810.000000</td>\n",
       "      <td>141725.000000</td>\n",
       "      <td>...</td>\n",
       "      <td>143781.000000</td>\n",
       "      <td>143781.000000</td>\n",
       "      <td>143781.000000</td>\n",
       "      <td>137910.000000</td>\n",
       "      <td>145056.000000</td>\n",
       "      <td>141725.000000</td>\n",
       "      <td>191652.000000</td>\n",
       "      <td>191652.000000</td>\n",
       "      <td>191652.000000</td>\n",
       "      <td>191652.000000</td>\n",
       "    </tr>\n",
       "    <tr>\n",
       "      <th>mean</th>\n",
       "      <td>95826.500000</td>\n",
       "      <td>0.344359</td>\n",
       "      <td>1.747525</td>\n",
       "      <td>11.352009</td>\n",
       "      <td>12.337243</td>\n",
       "      <td>13.672353</td>\n",
       "      <td>14.647059</td>\n",
       "      <td>15.377119</td>\n",
       "      <td>10.331579</td>\n",
       "      <td>4.965863</td>\n",
       "      <td>...</td>\n",
       "      <td>4.374417</td>\n",
       "      <td>4.564769</td>\n",
       "      <td>3.168868</td>\n",
       "      <td>4.152716</td>\n",
       "      <td>8.646371</td>\n",
       "      <td>3.723133</td>\n",
       "      <td>2.576806</td>\n",
       "      <td>0.090247</td>\n",
       "      <td>1.376432</td>\n",
       "      <td>3.060907</td>\n",
       "    </tr>\n",
       "    <tr>\n",
       "      <th>std</th>\n",
       "      <td>55325.311233</td>\n",
       "      <td>1.391672</td>\n",
       "      <td>1.966334</td>\n",
       "      <td>6.275026</td>\n",
       "      <td>4.006050</td>\n",
       "      <td>3.243335</td>\n",
       "      <td>2.753787</td>\n",
       "      <td>2.307653</td>\n",
       "      <td>4.134828</td>\n",
       "      <td>14.309694</td>\n",
       "      <td>...</td>\n",
       "      <td>2.924355</td>\n",
       "      <td>2.887035</td>\n",
       "      <td>2.233516</td>\n",
       "      <td>1.974375</td>\n",
       "      <td>1.154001</td>\n",
       "      <td>2.095540</td>\n",
       "      <td>1.168486</td>\n",
       "      <td>0.286536</td>\n",
       "      <td>0.484492</td>\n",
       "      <td>1.086254</td>\n",
       "    </tr>\n",
       "    <tr>\n",
       "      <th>min</th>\n",
       "      <td>1.000000</td>\n",
       "      <td>-1.000000</td>\n",
       "      <td>1.000000</td>\n",
       "      <td>0.000000</td>\n",
       "      <td>2.000000</td>\n",
       "      <td>2.000000</td>\n",
       "      <td>5.000000</td>\n",
       "      <td>8.000000</td>\n",
       "      <td>0.000000</td>\n",
       "      <td>0.000000</td>\n",
       "      <td>...</td>\n",
       "      <td>1.000000</td>\n",
       "      <td>1.000000</td>\n",
       "      <td>1.000000</td>\n",
       "      <td>0.000000</td>\n",
       "      <td>1.000000</td>\n",
       "      <td>0.000000</td>\n",
       "      <td>1.000000</td>\n",
       "      <td>0.000000</td>\n",
       "      <td>1.000000</td>\n",
       "      <td>1.000000</td>\n",
       "    </tr>\n",
       "    <tr>\n",
       "      <th>25%</th>\n",
       "      <td>47913.750000</td>\n",
       "      <td>-1.000000</td>\n",
       "      <td>1.000000</td>\n",
       "      <td>8.000000</td>\n",
       "      <td>9.000000</td>\n",
       "      <td>11.000000</td>\n",
       "      <td>13.000000</td>\n",
       "      <td>14.000000</td>\n",
       "      <td>9.000000</td>\n",
       "      <td>1.000000</td>\n",
       "      <td>...</td>\n",
       "      <td>2.000000</td>\n",
       "      <td>2.000000</td>\n",
       "      <td>1.000000</td>\n",
       "      <td>2.000000</td>\n",
       "      <td>9.000000</td>\n",
       "      <td>2.000000</td>\n",
       "      <td>1.000000</td>\n",
       "      <td>0.000000</td>\n",
       "      <td>1.000000</td>\n",
       "      <td>3.000000</td>\n",
       "    </tr>\n",
       "    <tr>\n",
       "      <th>50%</th>\n",
       "      <td>95826.500000</td>\n",
       "      <td>0.000000</td>\n",
       "      <td>1.000000</td>\n",
       "      <td>11.000000</td>\n",
       "      <td>13.000000</td>\n",
       "      <td>14.000000</td>\n",
       "      <td>15.000000</td>\n",
       "      <td>16.000000</td>\n",
       "      <td>10.000000</td>\n",
       "      <td>1.000000</td>\n",
       "      <td>...</td>\n",
       "      <td>4.000000</td>\n",
       "      <td>4.000000</td>\n",
       "      <td>3.000000</td>\n",
       "      <td>5.000000</td>\n",
       "      <td>9.000000</td>\n",
       "      <td>3.000000</td>\n",
       "      <td>3.000000</td>\n",
       "      <td>0.000000</td>\n",
       "      <td>1.000000</td>\n",
       "      <td>3.000000</td>\n",
       "    </tr>\n",
       "    <tr>\n",
       "      <th>75%</th>\n",
       "      <td>143739.250000</td>\n",
       "      <td>2.000000</td>\n",
       "      <td>1.000000</td>\n",
       "      <td>16.000000</td>\n",
       "      <td>16.000000</td>\n",
       "      <td>16.000000</td>\n",
       "      <td>17.000000</td>\n",
       "      <td>17.000000</td>\n",
       "      <td>13.000000</td>\n",
       "      <td>4.000000</td>\n",
       "      <td>...</td>\n",
       "      <td>7.000000</td>\n",
       "      <td>7.000000</td>\n",
       "      <td>4.000000</td>\n",
       "      <td>6.000000</td>\n",
       "      <td>9.000000</td>\n",
       "      <td>5.000000</td>\n",
       "      <td>3.000000</td>\n",
       "      <td>0.000000</td>\n",
       "      <td>2.000000</td>\n",
       "      <td>4.000000</td>\n",
       "    </tr>\n",
       "    <tr>\n",
       "      <th>max</th>\n",
       "      <td>191652.000000</td>\n",
       "      <td>3.000000</td>\n",
       "      <td>9.000000</td>\n",
       "      <td>21.000000</td>\n",
       "      <td>18.000000</td>\n",
       "      <td>18.000000</td>\n",
       "      <td>18.000000</td>\n",
       "      <td>18.000000</td>\n",
       "      <td>25.000000</td>\n",
       "      <td>523.000000</td>\n",
       "      <td>...</td>\n",
       "      <td>11.000000</td>\n",
       "      <td>13.000000</td>\n",
       "      <td>11.000000</td>\n",
       "      <td>6.000000</td>\n",
       "      <td>9.000000</td>\n",
       "      <td>8.000000</td>\n",
       "      <td>6.000000</td>\n",
       "      <td>1.000000</td>\n",
       "      <td>2.000000</td>\n",
       "      <td>9.000000</td>\n",
       "    </tr>\n",
       "  </tbody>\n",
       "</table>\n",
       "<p>8 rows × 361 columns</p>\n",
       "</div>"
      ],
      "text/plain": [
       "                 LNR       AGER_TYP     AKT_DAT_KL       ALTER_HH  \\\n",
       "count  191652.000000  191652.000000  145056.000000  145056.000000   \n",
       "mean    95826.500000       0.344359       1.747525      11.352009   \n",
       "std     55325.311233       1.391672       1.966334       6.275026   \n",
       "min         1.000000      -1.000000       1.000000       0.000000   \n",
       "25%     47913.750000      -1.000000       1.000000       8.000000   \n",
       "50%     95826.500000       0.000000       1.000000      11.000000   \n",
       "75%    143739.250000       2.000000       1.000000      16.000000   \n",
       "max    191652.000000       3.000000       9.000000      21.000000   \n",
       "\n",
       "        ALTER_KIND1  ALTER_KIND2  ALTER_KIND3  ALTER_KIND4  \\\n",
       "count  11766.000000  5100.000000  1275.000000   236.000000   \n",
       "mean      12.337243    13.672353    14.647059    15.377119   \n",
       "std        4.006050     3.243335     2.753787     2.307653   \n",
       "min        2.000000     2.000000     5.000000     8.000000   \n",
       "25%        9.000000    11.000000    13.000000    14.000000   \n",
       "50%       13.000000    14.000000    15.000000    16.000000   \n",
       "75%       16.000000    16.000000    17.000000    17.000000   \n",
       "max       18.000000    18.000000    18.000000    18.000000   \n",
       "\n",
       "       ALTERSKATEGORIE_FEIN  ANZ_HAUSHALTE_AKTIV          ...           \\\n",
       "count         139810.000000        141725.000000          ...            \n",
       "mean              10.331579             4.965863          ...            \n",
       "std                4.134828            14.309694          ...            \n",
       "min                0.000000             0.000000          ...            \n",
       "25%                9.000000             1.000000          ...            \n",
       "50%               10.000000             1.000000          ...            \n",
       "75%               13.000000             4.000000          ...            \n",
       "max               25.000000           523.000000          ...            \n",
       "\n",
       "            VK_DHT4A     VK_DISTANZ        VK_ZG11  W_KEIT_KIND_HH  \\\n",
       "count  143781.000000  143781.000000  143781.000000   137910.000000   \n",
       "mean        4.374417       4.564769       3.168868        4.152716   \n",
       "std         2.924355       2.887035       2.233516        1.974375   \n",
       "min         1.000000       1.000000       1.000000        0.000000   \n",
       "25%         2.000000       2.000000       1.000000        2.000000   \n",
       "50%         4.000000       4.000000       3.000000        5.000000   \n",
       "75%         7.000000       7.000000       4.000000        6.000000   \n",
       "max        11.000000      13.000000      11.000000        6.000000   \n",
       "\n",
       "       WOHNDAUER_2008       WOHNLAGE       ZABEOTYP  ONLINE_PURCHASE  \\\n",
       "count   145056.000000  141725.000000  191652.000000    191652.000000   \n",
       "mean         8.646371       3.723133       2.576806         0.090247   \n",
       "std          1.154001       2.095540       1.168486         0.286536   \n",
       "min          1.000000       0.000000       1.000000         0.000000   \n",
       "25%          9.000000       2.000000       1.000000         0.000000   \n",
       "50%          9.000000       3.000000       3.000000         0.000000   \n",
       "75%          9.000000       5.000000       3.000000         0.000000   \n",
       "max          9.000000       8.000000       6.000000         1.000000   \n",
       "\n",
       "           ANREDE_KZ  ALTERSKATEGORIE_GROB  \n",
       "count  191652.000000         191652.000000  \n",
       "mean        1.376432              3.060907  \n",
       "std         0.484492              1.086254  \n",
       "min         1.000000              1.000000  \n",
       "25%         1.000000              3.000000  \n",
       "50%         1.000000              3.000000  \n",
       "75%         2.000000              4.000000  \n",
       "max         2.000000              9.000000  \n",
       "\n",
       "[8 rows x 361 columns]"
      ]
     },
     "execution_count": 7,
     "metadata": {},
     "output_type": "execute_result"
    }
   ],
   "source": [
    "# Show description of customers population dataset\n",
    "customers.describe()"
   ]
  },
  {
   "cell_type": "code",
   "execution_count": 8,
   "metadata": {},
   "outputs": [
    {
     "name": "stdout",
     "output_type": "stream",
     "text": [
      "<class 'pandas.core.frame.DataFrame'>\n",
      "RangeIndex: 191652 entries, 0 to 191651\n",
      "Columns: 369 entries, LNR to ALTERSKATEGORIE_GROB\n",
      "dtypes: float64(267), int64(94), object(8)\n",
      "memory usage: 539.5+ MB\n"
     ]
    }
   ],
   "source": [
    "# Show info of customers population dataset\n",
    "customers.info()"
   ]
  },
  {
   "cell_type": "markdown",
   "metadata": {},
   "source": [
    "## Data Visualization\n",
    "\n",
    "The insights gained are now visualized to get an even better understanding of the data set and to find out what are the big difference betwenn the general population and the customer population."
   ]
  },
  {
   "cell_type": "code",
   "execution_count": 9,
   "metadata": {},
   "outputs": [],
   "source": [
    "def plot_comparison(feature):\n",
    "    \"\"\"\n",
    "    Plots the value counts of the given feature for the general population and the customers population dataset.\n",
    "  \n",
    "    Parameters:\n",
    "    feature (str): feature which should be plottet, this feature must be a column in the azdias and customers dataset\n",
    "  \n",
    "    Returns:\n",
    "    2x1 suplot of the value counts of the given feature, general population in blue and customers population in orange\n",
    "  \n",
    "    \"\"\"\n",
    "    # define figure\n",
    "    fig, axes = plt.subplots(nrows=1, ncols=2, figsize = (13,4))\n",
    "    # define special xticks for CAMEO_DEUG_2015\n",
    "    if feature=='CAMEO_DEUG_2015':\n",
    "        azdias[feature].value_counts().sort_index().plot(kind = 'bar',ax=axes[0],title='general population', color='tab:blue')\n",
    "        plt.sca(axes[0])\n",
    "        plt.xticks([0, 1, 2, 3, 4, 5, 6, 7, 8, 9], ['unknown', 'upper class', 'upper middleclass', 'established middleclasse', 'consumption-oriented middleclass', 'active middleclass', 'low-consumption middleclass', 'lower middleclass', 'working class', 'urban working class'])\n",
    "        customers[feature].value_counts().sort_index().plot(kind = 'bar',ax=axes[1],title='customers population',color='tab:orange')\n",
    "        plt.sca(axes[1])\n",
    "        plt.xticks([0, 1, 2, 3, 4, 5, 6, 7, 8, 9], ['unknown', 'upper class', 'upper middleclass', 'established middleclasse', 'consumption-oriented middleclass', 'active middleclass', 'low-consumption middleclass', 'lower middleclass', 'working class', 'urban working class'])\n",
    "    # define special xticks for HH_EINKOMMEN_SCORE\n",
    "    elif feature == 'HH_EINKOMMEN_SCORE':\n",
    "        azdias[feature].value_counts().sort_index().plot(kind = 'bar',ax=axes[0],title='general population', color='tab:blue')\n",
    "        plt.sca(axes[0])\n",
    "        plt.xticks([0, 1, 2, 3, 4, 5], ['highest income', 'very high income', 'high income', 'average income', 'lower income', 'very low income'])\n",
    "        customers[feature].value_counts().sort_index().plot(kind = 'bar',ax=axes[1],title='customers population',color='tab:orange')\n",
    "        plt.sca(axes[1])\n",
    "        plt.xticks([0, 1, 2, 3, 4, 5], ['highest income', 'very high income', 'high income', 'average income', 'lower income', 'very low income'])\n",
    "    # define special xticks for MOBI_REGIO\n",
    "    elif feature == 'MOBI_REGIO':\n",
    "        azdias[feature].value_counts().sort_index().plot(kind = 'bar',ax=axes[0],title='general population', color='tab:blue')\n",
    "        plt.sca(axes[0])\n",
    "        plt.xticks([0, 1, 2, 3, 4, 5], ['very high mobility', 'high mobility', 'middle mobility', 'low mobility', 'very low mobility', 'none'])\n",
    "        customers[feature].value_counts().sort_index().plot(kind = 'bar',ax=axes[1],title='customers population',color='tab:orange')\n",
    "        plt.sca(axes[1])\n",
    "        plt.xticks([0, 1, 2, 3, 4, 5], ['very high mobility', 'high mobility', 'middle mobility', 'low mobility', 'very low mobility', 'none'])\n",
    "    # define special xticks for ALTERSKATEGORIE_GROB\n",
    "    elif feature == 'ALTERSKATEGORIE_GROB':\n",
    "        azdias[feature].value_counts().sort_index().plot(kind = 'bar',ax=axes[0],title='general population', color='tab:blue')\n",
    "        plt.sca(axes[0])\n",
    "        plt.xticks([0, 1, 2, 3, 4], ['< 30 years', '30 - 45 years', '46 - 60 years', '> 60 years', 'uniformly distributed'])\n",
    "        customers[feature].value_counts().sort_index().plot(kind = 'bar',ax=axes[1],title='customers population',color='tab:orange')\n",
    "        plt.sca(axes[1])\n",
    "        plt.xticks([0, 1, 2, 3, 4], ['< 30 years', '30 - 45 years', '46 - 60 years', '> 60 years', 'uniformly distributed'])\n",
    "    # define special xticks for LP_FAMILIE_GROB\n",
    "    elif feature == 'LP_FAMILIE_GROB':\n",
    "        azdias[feature].value_counts().sort_index().plot(kind = 'bar',ax=axes[0],title='general population', color='tab:blue')\n",
    "        plt.sca(axes[0])\n",
    "        plt.xticks([0, 1, 2, 3, 4, 5], ['none', 'single', 'couple', 'single parent', 'family', 'multiperson household'])\n",
    "        customers[feature].value_counts().sort_index().plot(kind = 'bar',ax=axes[1],title='customers population',color='tab:orange')\n",
    "        plt.sca(axes[1])\n",
    "        plt.xticks([0, 1, 2, 3, 4, 5], ['none', 'single', 'couple', 'single parent', 'family', 'multiperson household'])\n",
    "    # define special xticks for INNENSTADT\n",
    "    elif feature == 'INNENSTADT':\n",
    "        azdias[feature].value_counts().sort_index().plot(kind = 'bar',ax=axes[0],title='general population', color='tab:blue')\n",
    "        plt.sca(axes[0])\n",
    "        plt.xticks([0, 1, 2, 3, 4, 5, 6, 7], ['none', 'city centre', '3 km away', '3-5 km away', '5-10 km away', '10-20 km away', '20-30 km away', '30-40 km away', '> 40 km away'])\n",
    "        customers[feature].value_counts().sort_index().plot(kind = 'bar',ax=axes[1],title='customers population',color='tab:orange')\n",
    "        plt.sca(axes[1])\n",
    "        plt.xticks([0, 1, 2, 3, 4, 5, 6, 7], ['none', 'city centre', '3 km away', '3-5 km away', '5-10 km away', '10-20 km away', '20-30 km away', '30-40 km away', '> 40 km away'])\n",
    "    # define special xticks for LP_STATUS_GROB\n",
    "    elif feature == 'LP_STATUS_GROB':\n",
    "        azdias[feature].value_counts().sort_index().plot(kind = 'bar',ax=axes[0],title='general population', color='tab:blue')\n",
    "        plt.sca(axes[0])\n",
    "        plt.xticks([0, 1, 2, 3, 4], ['low-income earners', 'average earners', 'independants', 'houseowners', 'top earners'])\n",
    "        customers[feature].value_counts().sort_index().plot(kind = 'bar',ax=axes[1],title='customers population',color='tab:orange')\n",
    "        plt.sca(axes[1])\n",
    "        plt.xticks([0, 1, 2, 3, 4], ['low-income earners', 'average earners', 'independants', 'houseowners', 'top earners'])\n",
    "    # define special xticks for NATIONALITAET_KZ\n",
    "    elif feature == 'NATIONALITAET_KZ':\n",
    "        azdias[feature].value_counts().sort_index().plot(kind = 'bar',ax=axes[0],title='general population', color='tab:blue')\n",
    "        plt.sca(axes[0])\n",
    "        plt.xticks([0, 1, 2, 3], ['unknown', 'sounding german', 'sounding foreign', 'assimilated names'])\n",
    "        customers[feature].value_counts().sort_index().plot(kind = 'bar',ax=axes[1],title='customers population',color='tab:orange')\n",
    "        plt.sca(axes[1])\n",
    "        plt.xticks([0, 1, 2, 3], ['unknown', 'sounding german', 'sounding foreign', 'assimilated names']) \n",
    "    # if the feature is nothing of the features used in the elif statement, plot directly over value count numbers\n",
    "    else:\n",
    "        azdias[feature].value_counts().sort_index().plot(kind = 'bar',ax=axes[0],title='general population', color='tab:blue')\n",
    "        customers[feature].value_counts().sort_index().plot(kind = 'bar',ax=axes[1],title='customers population',color='tab:orange')"
   ]
  },
  {
   "cell_type": "code",
   "execution_count": 10,
   "metadata": {},
   "outputs": [
    {
     "data": {
      "image/png": "[encoded data removed]",
      "text/plain": [
       "<matplotlib.figure.Figure at 0x7ff108ca6390>"
      ]
     },
     "metadata": {
      "needs_background": "light"
     },
     "output_type": "display_data"
    }
   ],
   "source": [
    "# plot CAMEO_DEUG_2015\n",
    "azdias['CAMEO_DEUG_2015'] = pd.to_numeric(azdias['CAMEO_DEUG_2015'].replace('X', 0), downcast='integer').fillna(0).astype('int')\n",
    "customers['CAMEO_DEUG_2015'] = pd.to_numeric(customers['CAMEO_DEUG_2015'].replace('X', 0), downcast='integer').fillna(0).astype('int')\n",
    "plot_comparison('CAMEO_DEUG_2015')"
   ]
  },
  {
   "cell_type": "code",
   "execution_count": 11,
   "metadata": {},
   "outputs": [
    {
     "name": "stdout",
     "output_type": "stream",
     "text": [
      "In the general population are 31.0 % in the working class.\n",
      "In the customer population are only 14.0 % in the working class.\n"
     ]
    }
   ],
   "source": [
    "# Compare percentage of working class to overall dataset without unknown values\n",
    "perc_work_class_azdias = (azdias['CAMEO_DEUG_2015'].value_counts().loc[8] + azdias['CAMEO_DEUG_2015'].value_counts().loc[9]) / (azdias['CAMEO_DEUG_2015'].count() - azdias['CAMEO_DEUG_2015'].value_counts().loc[0])\n",
    "print('In the general population are {} % in the working class.'.format(round(perc_work_class_azdias*100)))\n",
    "perc_work_class_customers = (customers['CAMEO_DEUG_2015'].value_counts().loc[8] + customers['CAMEO_DEUG_2015'].value_counts().loc[9]) / (customers['CAMEO_DEUG_2015'].count() - customers['CAMEO_DEUG_2015'].value_counts().loc[0])\n",
    "print('In the customer population are only {} % in the working class.'.format(round(perc_work_class_customers*100)))"
   ]
  },
  {
   "cell_type": "code",
   "execution_count": 12,
   "metadata": {},
   "outputs": [
    {
     "name": "stdout",
     "output_type": "stream",
     "text": [
      "In the general population are 15.0 % in the upper class and upper middleclass.\n",
      "In the customer population are 29.0 % in the upper class and upper middleclass.\n"
     ]
    }
   ],
   "source": [
    "# Compare percentage of upper class and upper middleclass to overall dataset without unknown values\n",
    "perc_upper_class_azdias = (azdias['CAMEO_DEUG_2015'].value_counts().loc[1] + azdias['CAMEO_DEUG_2015'].value_counts().loc[2]) / (azdias['CAMEO_DEUG_2015'].count() - azdias['CAMEO_DEUG_2015'].value_counts().loc[0])\n",
    "print('In the general population are {} % in the upper class and upper middleclass.'.format(round(perc_upper_class_azdias*100)))\n",
    "perc_upper_class_customers = (customers['CAMEO_DEUG_2015'].value_counts().loc[1] + customers['CAMEO_DEUG_2015'].value_counts().loc[2]) / (customers['CAMEO_DEUG_2015'].count() - customers['CAMEO_DEUG_2015'].value_counts().loc[0])\n",
    "print('In the customer population are {} % in the upper class and upper middleclass.'.format(round(perc_upper_class_customers*100)))"
   ]
  },
  {
   "cell_type": "code",
   "execution_count": 13,
   "metadata": {},
   "outputs": [
    {
     "data": {
      "image/png": "[encoded data removed]",
      "text/plain": [
       "<matplotlib.figure.Figure at 0x7ff10c2fe748>"
      ]
     },
     "metadata": {
      "needs_background": "light"
     },
     "output_type": "display_data"
    }
   ],
   "source": [
    "# plot HH_EINKOMMEN_SCORE\n",
    "plot_comparison('HH_EINKOMMEN_SCORE')"
   ]
  },
  {
   "cell_type": "code",
   "execution_count": 14,
   "metadata": {},
   "outputs": [
    {
     "name": "stdout",
     "output_type": "stream",
     "text": [
      "In the general population are 32.0 % with a high income.\n",
      "In the customers population are 65.0 % with a high income.\n"
     ]
    }
   ],
   "source": [
    "# Compare percentage of high income to overall dataset\n",
    "perc_high_income_azdias = (azdias['HH_EINKOMMEN_SCORE'].value_counts().loc[1] + azdias['HH_EINKOMMEN_SCORE'].value_counts().loc[2] + azdias['HH_EINKOMMEN_SCORE'].value_counts().loc[3]) / (azdias['HH_EINKOMMEN_SCORE'].count())\n",
    "print('In the general population are {} % with a high income.'.format(round(perc_high_income_azdias*100)))\n",
    "perc_high_income_customers = (customers['HH_EINKOMMEN_SCORE'].value_counts().loc[1] + customers['HH_EINKOMMEN_SCORE'].value_counts().loc[2] + customers['HH_EINKOMMEN_SCORE'].value_counts().loc[3]) / (customers['HH_EINKOMMEN_SCORE'].count())\n",
    "print('In the customers population are {} % with a high income.'.format(round(perc_high_income_customers*100)))"
   ]
  },
  {
   "cell_type": "code",
   "execution_count": 15,
   "metadata": {},
   "outputs": [
    {
     "name": "stdout",
     "output_type": "stream",
     "text": [
      "In the general population are 52.0 % with a low income.\n",
      "In the customers population are 20.0 % with a low income.\n"
     ]
    }
   ],
   "source": [
    "# Compare percentage of low income to overall dataset\n",
    "perc_low_income_azdias = (azdias['HH_EINKOMMEN_SCORE'].value_counts().loc[5] + azdias['HH_EINKOMMEN_SCORE'].value_counts().loc[6]) / (azdias['HH_EINKOMMEN_SCORE'].count())\n",
    "print('In the general population are {} % with a low income.'.format(round(perc_low_income_azdias*100)))\n",
    "perc_low_income_customers = (customers['HH_EINKOMMEN_SCORE'].value_counts().loc[5] + customers['HH_EINKOMMEN_SCORE'].value_counts().loc[6]) / (customers['HH_EINKOMMEN_SCORE'].count())\n",
    "print('In the customers population are {} % with a low income.'.format(round(perc_low_income_customers*100)))"
   ]
  },
  {
   "cell_type": "code",
   "execution_count": 16,
   "metadata": {},
   "outputs": [
    {
     "data": {
      "image/png": "[encoded data removed]",
      "text/plain": [
       "<matplotlib.figure.Figure at 0x7ff1090fcef0>"
      ]
     },
     "metadata": {
      "needs_background": "light"
     },
     "output_type": "display_data"
    }
   ],
   "source": [
    "# plot MOBI_REGIO\n",
    "plot_comparison('MOBI_REGIO')"
   ]
  },
  {
   "cell_type": "code",
   "execution_count": 17,
   "metadata": {},
   "outputs": [
    {
     "name": "stdout",
     "output_type": "stream",
     "text": [
      "In the general population are 41.0 % with a high mobility.\n",
      "In the customers population are 19.0 % with a high mobility.\n"
     ]
    }
   ],
   "source": [
    "# Compare percentage of high mobility to overall dataset\n",
    "perc_high_mobility_azdias = (azdias['MOBI_REGIO'].value_counts().loc[1] + azdias['MOBI_REGIO'].value_counts().loc[2]) / (azdias['MOBI_REGIO'].count())\n",
    "print('In the general population are {} % with a high mobility.'.format(round(perc_high_mobility_azdias*100)))\n",
    "perc_high_mobility_customers = (customers['MOBI_REGIO'].value_counts().loc[1] + customers['MOBI_REGIO'].value_counts().loc[2]) / (customers['MOBI_REGIO'].count())\n",
    "print('In the customers population are {} % with a high mobility.'.format(round(perc_high_mobility_customers*100)))"
   ]
  },
  {
   "cell_type": "code",
   "execution_count": 18,
   "metadata": {},
   "outputs": [
    {
     "name": "stdout",
     "output_type": "stream",
     "text": [
      "In the general population are 39.0 % with a low mobility.\n",
      "In the customers population are 60.0 % with a low mobility.\n"
     ]
    }
   ],
   "source": [
    "# Compare percentage of low mobility to overall dataset\n",
    "perc_low_mobility_azdias = (azdias['MOBI_REGIO'].value_counts().loc[4] + azdias['MOBI_REGIO'].value_counts().loc[5]) / (azdias['MOBI_REGIO'].count())\n",
    "print('In the general population are {} % with a low mobility.'.format(round(perc_low_mobility_azdias*100)))\n",
    "perc_low_mobility_customers = (customers['MOBI_REGIO'].value_counts().loc[4] + customers['MOBI_REGIO'].value_counts().loc[5]) / (customers['MOBI_REGIO'].count())\n",
    "print('In the customers population are {} % with a low mobility.'.format(round(perc_low_mobility_customers*100)))"
   ]
  },
  {
   "cell_type": "code",
   "execution_count": 19,
   "metadata": {},
   "outputs": [
    {
     "data": {
      "image/png": "[encoded data removed]",
      "text/plain": [
       "<matplotlib.figure.Figure at 0x7ff10b3656d8>"
      ]
     },
     "metadata": {
      "needs_background": "light"
     },
     "output_type": "display_data"
    }
   ],
   "source": [
    "# plot ALTERSKATEGORIE_GROB\n",
    "plot_comparison('ALTERSKATEGORIE_GROB')"
   ]
  },
  {
   "cell_type": "code",
   "execution_count": 20,
   "metadata": {},
   "outputs": [
    {
     "name": "stdout",
     "output_type": "stream",
     "text": [
      "In the general population are 26.0 % older than 60 years.\n",
      "In the customer population are only 45.0 % older than 60 years.\n"
     ]
    }
   ],
   "source": [
    "# Compare percentage of people older than 60 years to overall dataset\n",
    "perc_older_60_azdias = (azdias['ALTERSKATEGORIE_GROB'].value_counts().loc[4]) / (azdias['ALTERSKATEGORIE_GROB'].count())\n",
    "print('In the general population are {} % older than 60 years.'.format(round(perc_older_60_azdias*100)))\n",
    "perc_older_60_customers = (customers['ALTERSKATEGORIE_GROB'].value_counts().loc[4]) / (customers['ALTERSKATEGORIE_GROB'].count())\n",
    "print('In the customer population are only {} % older than 60 years.'.format(round(perc_older_60_customers*100)))"
   ]
  },
  {
   "cell_type": "code",
   "execution_count": 21,
   "metadata": {},
   "outputs": [
    {
     "data": {
      "image/png": "[encoded data removed]",
      "text/plain": [
       "<matplotlib.figure.Figure at 0x7ff10c0a8940>"
      ]
     },
     "metadata": {
      "needs_background": "light"
     },
     "output_type": "display_data"
    }
   ],
   "source": [
    "# plot LP_FAMILIE_GROB\n",
    "plot_comparison('LP_FAMILIE_GROB')"
   ]
  },
  {
   "cell_type": "code",
   "execution_count": 22,
   "metadata": {},
   "outputs": [
    {
     "data": {
      "image/png": "[encoded data removed]",
      "text/plain": [
       "<matplotlib.figure.Figure at 0x7ff10c63afd0>"
      ]
     },
     "metadata": {
      "needs_background": "light"
     },
     "output_type": "display_data"
    }
   ],
   "source": [
    "# plot INNENSTADT\n",
    "plot_comparison('INNENSTADT')"
   ]
  },
  {
   "cell_type": "code",
   "execution_count": 23,
   "metadata": {},
   "outputs": [
    {
     "data": {
      "image/png": "[encoded data removed]",
      "text/plain": [
       "<matplotlib.figure.Figure at 0x7ff10b38d320>"
      ]
     },
     "metadata": {
      "needs_background": "light"
     },
     "output_type": "display_data"
    }
   ],
   "source": [
    "# plot LP_STATUS_GROB\n",
    "plot_comparison('LP_STATUS_GROB')"
   ]
  },
  {
   "cell_type": "code",
   "execution_count": 24,
   "metadata": {},
   "outputs": [
    {
     "data": {
      "image/png": "[encoded data removed]",
      "text/plain": [
       "<matplotlib.figure.Figure at 0x7ff10b42a278>"
      ]
     },
     "metadata": {
      "needs_background": "light"
     },
     "output_type": "display_data"
    }
   ],
   "source": [
    "# plot NATIONALITAET_KZ\n",
    "plot_comparison('NATIONALITAET_KZ')"
   ]
  },
  {
   "cell_type": "markdown",
   "metadata": {},
   "source": [
    "## Summary\n",
    "\n",
    "The customers are more upper class (29 %) and high income earners (65 %). They have a low mobility (60 %) and they are pretty old (45 % are older than 60 years). The customers have a high status (lot of independants, houseowners and top earners), only a few are foreigner, they are less single and a lot live in a mulitperson household. The distribution of the distance to city centre are almost the same compared to the general population."
   ]
  },
  {
   "cell_type": "markdown",
   "metadata": {},
   "source": [
    "## Data Preprocessing"
   ]
  },
  {
   "cell_type": "markdown",
   "metadata": {},
   "source": [
    "### Mixed-type data fix"
   ]
  },
  {
   "cell_type": "markdown",
   "metadata": {},
   "source": [
    "According to the error messages during the data loading, columns (18, 19) in both azdias and customers dataframes exhibit mixed types issue. Therefore, this step will focus on figuring out the problem and fix it.\n",
    "\n"
   ]
  },
  {
   "cell_type": "code",
   "execution_count": 25,
   "metadata": {},
   "outputs": [
    {
     "name": "stdout",
     "output_type": "stream",
     "text": [
      "['CAMEO_DEUG_2015', 'CAMEO_INTL_2015'] columns have mixed-type data issue in both azdias and customers dataframes.\n",
      "\n",
      "The values in CAMEO_DEUG_2015 are [0, 8, 4, 2, 6, 1, 9, 5, 7, 3]\n",
      "\n",
      "The values in CAMEO_INTL_2015 are [nan, 51.0, 24.0, 12.0, 43.0, 54.0, 22.0, 14.0, 13.0, 15.0, 33.0, 41.0, 34.0, 55.0, 25.0, 23.0, 31.0, 52.0, 35.0, 45.0, 44.0, 32.0, '22', '24', '41', '12', '54', '51', '44', '35', '23', '25', '14', '34', '52', '55', '31', '32', '15', '13', '43', '33', '45', 'XX']\n"
     ]
    }
   ],
   "source": [
    "# Check the (18,19) columns in azdias dataframe\n",
    "mix_column = list(azdias.iloc[:, 18:20].columns)\n",
    "print(\"{} columns have mixed-type data issue in both azdias and customers dataframes.\\n\".format(mix_column))\n",
    "print(\"The values in CAMEO_DEUG_2015 are {}\\n\".format(list(azdias[mix_column[0]].unique())))\n",
    "print(\"The values in CAMEO_INTL_2015 are {}\".format(list(azdias[mix_column[1]].unique())))"
   ]
  },
  {
   "cell_type": "markdown",
   "metadata": {},
   "source": [
    "The \"CAMEO_DEUG_2015\", \"CAMEO_INTL_2015\" are the columns with mixed-type data issue in two dataframes, they are caused by the appearance of \"X\"/\"XX\" and the decimal point (1 vs. 1.0) issue."
   ]
  },
  {
   "cell_type": "code",
   "execution_count": 26,
   "metadata": {},
   "outputs": [],
   "source": [
    "# Replace the \"X\"/\"XX\" by -1 in CAMEO_DEUG_2015 column and convert the data to consistent type (float) to solve mixd type issue\n",
    "azdias['CAMEO_DEUG_2015'] = azdias['CAMEO_DEUG_2015'][azdias['CAMEO_DEUG_2015'].notnull()].replace(\"X\",\"-1\").astype('int')\n",
    "azdias['CAMEO_INTL_2015'] = azdias['CAMEO_INTL_2015'][azdias['CAMEO_INTL_2015'].notnull()].replace(\"XX\",\"-1\").astype('int')"
   ]
  },
  {
   "cell_type": "code",
   "execution_count": 27,
   "metadata": {},
   "outputs": [
    {
     "data": {
      "text/plain": [
       "8    134441\n",
       "9    108177\n",
       "6    105874\n",
       "4    103912\n",
       "0     99352\n",
       "3     86779\n",
       "2     83231\n",
       "7     77933\n",
       "5     55310\n",
       "1     36212\n",
       "Name: CAMEO_DEUG_2015, dtype: int64"
      ]
     },
     "execution_count": 27,
     "metadata": {},
     "output_type": "execute_result"
    }
   ],
   "source": [
    "# Examine whether mixed type issue solved or not in azdias dataframe\n",
    "azdias['CAMEO_DEUG_2015'].value_counts()"
   ]
  },
  {
   "cell_type": "code",
   "execution_count": 28,
   "metadata": {},
   "outputs": [
    {
     "data": {
      "text/plain": [
       " 51.0    133694\n",
       " 41.0     92336\n",
       " 24.0     91158\n",
       " 14.0     62884\n",
       " 43.0     56672\n",
       " 54.0     45391\n",
       " 25.0     39628\n",
       " 22.0     33155\n",
       " 23.0     26750\n",
       " 13.0     26336\n",
       " 45.0     26132\n",
       " 55.0     23955\n",
       " 52.0     20542\n",
       " 31.0     19024\n",
       " 34.0     18524\n",
       " 15.0     16974\n",
       " 44.0     14820\n",
       " 12.0     13249\n",
       " 35.0     10356\n",
       " 32.0     10354\n",
       " 33.0      9935\n",
       "-1.0        373\n",
       "Name: CAMEO_INTL_2015, dtype: int64"
      ]
     },
     "execution_count": 28,
     "metadata": {},
     "output_type": "execute_result"
    }
   ],
   "source": [
    "# Examine whether mixed type issue solved or not in azdias dataframe\n",
    "azdias['CAMEO_INTL_2015'].value_counts()"
   ]
  },
  {
   "cell_type": "code",
   "execution_count": 29,
   "metadata": {},
   "outputs": [
    {
     "data": {
      "text/plain": [
       "Index(['CAMEO_DEU_2015', 'D19_LETZTER_KAUF_BRANCHE', 'EINGEFUEGT_AM',\n",
       "       'OST_WEST_KZ'],\n",
       "      dtype='object')"
      ]
     },
     "execution_count": 29,
     "metadata": {},
     "output_type": "execute_result"
    }
   ],
   "source": [
    "# Check if other columns have same mixed-type issue\n",
    "azdias.select_dtypes(include=['object']).columns"
   ]
  },
  {
   "cell_type": "markdown",
   "metadata": {},
   "source": [
    "'CAMEO_DEU_2015 also contain 'XX' value, same procedure will apply to it. 'OST_WEST_KZ' is categorical variable, will be on hot encoded later. 'D19_LETZTER_KAUF_BRANCHE' and 'EINGEFUEGT_AM' are categorical variables with a lot of distinct attributes, are dropped later. "
   ]
  },
  {
   "cell_type": "code",
   "execution_count": 30,
   "metadata": {},
   "outputs": [],
   "source": [
    "# Replace the 'XX' with NaN in azdias dataframe\n",
    "azdias.CAMEO_DEU_2015 = azdias.CAMEO_DEU_2015.replace('XX', np.NaN)"
   ]
  },
  {
   "cell_type": "code",
   "execution_count": 31,
   "metadata": {},
   "outputs": [
    {
     "data": {
      "text/html": [
       "<div>\n",
       "<style scoped>\n",
       "    .dataframe tbody tr th:only-of-type {\n",
       "        vertical-align: middle;\n",
       "    }\n",
       "\n",
       "    .dataframe tbody tr th {\n",
       "        vertical-align: top;\n",
       "    }\n",
       "\n",
       "    .dataframe thead th {\n",
       "        text-align: right;\n",
       "    }\n",
       "</style>\n",
       "<table border=\"1\" class=\"dataframe\">\n",
       "  <thead>\n",
       "    <tr style=\"text-align: right;\">\n",
       "      <th></th>\n",
       "      <th>attribute</th>\n",
       "      <th>type</th>\n",
       "      <th>missing_or_unknown</th>\n",
       "    </tr>\n",
       "  </thead>\n",
       "  <tbody>\n",
       "    <tr>\n",
       "      <th>0</th>\n",
       "      <td>AGER_TYP</td>\n",
       "      <td>categorical</td>\n",
       "      <td>-1, 0</td>\n",
       "    </tr>\n",
       "    <tr>\n",
       "      <th>1</th>\n",
       "      <td>ALTERSKATEGORIE_GROB</td>\n",
       "      <td>ordinal</td>\n",
       "      <td>-1, 0, 9</td>\n",
       "    </tr>\n",
       "    <tr>\n",
       "      <th>2</th>\n",
       "      <td>ANREDE_KZ</td>\n",
       "      <td>categorical</td>\n",
       "      <td>-1, 0</td>\n",
       "    </tr>\n",
       "    <tr>\n",
       "      <th>3</th>\n",
       "      <td>CJT_GESAMTTYP</td>\n",
       "      <td>categorical</td>\n",
       "      <td>0</td>\n",
       "    </tr>\n",
       "    <tr>\n",
       "      <th>4</th>\n",
       "      <td>FINANZ_MINIMALIST</td>\n",
       "      <td>ordinal</td>\n",
       "      <td>-1</td>\n",
       "    </tr>\n",
       "  </tbody>\n",
       "</table>\n",
       "</div>"
      ],
      "text/plain": [
       "              attribute         type missing_or_unknown\n",
       "0              AGER_TYP  categorical              -1, 0\n",
       "1  ALTERSKATEGORIE_GROB      ordinal           -1, 0, 9\n",
       "2             ANREDE_KZ  categorical              -1, 0\n",
       "3         CJT_GESAMTTYP  categorical                  0\n",
       "4     FINANZ_MINIMALIST      ordinal                 -1"
      ]
     },
     "execution_count": 31,
     "metadata": {},
     "output_type": "execute_result"
    }
   ],
   "source": [
    "# Load feature_summary dataframe\n",
    "feature = pd.read_csv('./feature_summary.csv')\n",
    "feature.drop(['Unnamed: 0'],axis=1, inplace=True)\n",
    "feature.head()"
   ]
  },
  {
   "cell_type": "code",
   "execution_count": 32,
   "metadata": {},
   "outputs": [
    {
     "name": "stderr",
     "output_type": "stream",
     "text": [
      "/opt/conda/lib/python3.6/site-packages/ipykernel_launcher.py:3: SettingWithCopyWarning: \n",
      "A value is trying to be set on a copy of a slice from a DataFrame.\n",
      "Try using .loc[row_indexer,col_indexer] = value instead\n",
      "\n",
      "See the caveats in the documentation: http://pandas.pydata.org/pandas-docs/stable/indexing.html#indexing-view-versus-copy\n",
      "  This is separate from the ipykernel package so we can avoid doing imports until\n"
     ]
    }
   ],
   "source": [
    "# Split the value in missing_or_unknown column, convert them into numeric variable\n",
    "feature_notnull = feature[feature['missing_or_unknown'].notna()]\n",
    "feature_notnull['missing_or_unknown'] = feature_notnull['missing_or_unknown'].apply(lambda x: x.split(','))\n",
    "\n",
    "# Re-encode the unknown value in each attribute as NaN based the information from feature_summary dataframe\n",
    "\n",
    "# Iterate through each attribute in feature\n",
    "for i in feature_notnull.index:\n",
    "    # Convert each value in missing_or_unknown to 'int' variable if there is\n",
    "    for value in range(len(feature_notnull.loc[i,'missing_or_unknown'])):\n",
    "        feature_notnull.loc[i,'missing_or_unknown'][value] = int(feature_notnull.loc[i,'missing_or_unknown'][value])\n",
    "\n",
    "    # Replace the unknown or missing value to NaN in azdias in the reference of feature dataframe\n",
    "    azdias.loc[:,(feature_notnull.loc[i, 'attribute'])].replace(feature_notnull.loc[i,'missing_or_unknown'], np.nan, inplace=True)"
   ]
  },
  {
   "cell_type": "markdown",
   "metadata": {},
   "source": [
    "### Drop columns with a lot of NaN Values in azdias dataframe"
   ]
  },
  {
   "cell_type": "code",
   "execution_count": 33,
   "metadata": {},
   "outputs": [
    {
     "data": {
      "text/plain": [
       "(array([ 109.,  226.,   10.,    1.,    1.,    2.,    3.,    3.,    2.,    9.]),\n",
       " array([      0. ,   89001.6,  178003.2,  267004.8,  356006.4,  445008. ,\n",
       "         534009.6,  623011.2,  712012.8,  801014.4,  890016. ]),\n",
       " <a list of 10 Patch objects>)"
      ]
     },
     "execution_count": 33,
     "metadata": {},
     "output_type": "execute_result"
    },
    {
     "data": {
      "image/png": "[encoded data removed]",
      "text/plain": [
       "<matplotlib.figure.Figure at 0x7ff1099d6128>"
      ]
     },
     "metadata": {
      "needs_background": "light"
     },
     "output_type": "display_data"
    }
   ],
   "source": [
    "# Find columns with a lot of NaNs and show them in histogram\n",
    "nan_distr = azdias.isna().sum().sort_values(ascending=False)\n",
    "plt.hist(nan_distr)"
   ]
  },
  {
   "cell_type": "markdown",
   "metadata": {},
   "source": [
    "There are some outlier columns which have more than 200000 NaN values, which will be deleted in the next step."
   ]
  },
  {
   "cell_type": "code",
   "execution_count": 34,
   "metadata": {},
   "outputs": [
    {
     "name": "stdout",
     "output_type": "stream",
     "text": [
      "['AGER_TYP', 'ALTER_HH', 'ALTER_KIND1', 'ALTER_KIND2', 'ALTER_KIND3', 'ALTER_KIND4', 'ALTERSKATEGORIE_FEIN', 'D19_BANKEN_ANZ_12', 'D19_BANKEN_ANZ_24', 'D19_BANKEN_ONLINE_QUOTE_12', 'D19_GESAMT_ANZ_12', 'D19_GESAMT_ANZ_24', 'D19_GESAMT_ONLINE_QUOTE_12', 'D19_KONSUMTYP', 'D19_LETZTER_KAUF_BRANCHE', 'D19_LOTTO', 'D19_SOZIALES', 'D19_TELKO_ANZ_12', 'D19_TELKO_ANZ_24', 'D19_TELKO_ONLINE_QUOTE_12', 'D19_VERSAND_ANZ_12', 'D19_VERSAND_ANZ_24', 'D19_VERSAND_ONLINE_QUOTE_12', 'D19_VERSI_ANZ_12', 'D19_VERSI_ANZ_24', 'D19_VERSI_ONLINE_QUOTE_12', 'EXTSEL992', 'GEBURTSJAHR', 'KBA05_BAUMAX', 'KK_KUNDENTYP', 'TITEL_KZ']\n",
      "31\n"
     ]
    }
   ],
   "source": [
    "# Find all columns with more than 200000 NaNs and save them in a list\n",
    "drop_columns = list(azdias.isna().sum()[azdias.isna().sum()>200000].index)\n",
    "print(drop_columns)\n",
    "print(len(drop_columns))"
   ]
  },
  {
   "cell_type": "code",
   "execution_count": 35,
   "metadata": {},
   "outputs": [],
   "source": [
    "# Function to extract columns with nan\n",
    "def extract_columns_with_nan(df):\n",
    "    \"\"\"\n",
    "    Calculate the percentage of NaN values in each column and give them as new dataframe back\n",
    "  \n",
    "    Parameters:\n",
    "    df (pandas dataframe): dataframe which contains columns with nan values\n",
    "  \n",
    "    Returns:\n",
    "    df_nan (pandas dataframe): contains all column names with nan values in it and the percentage of nan values in each column, sorted by percentage descending\n",
    "  \n",
    "    \"\"\"\n",
    "    # Extract columns with NaNs\n",
    "    columns_with_nans = df.isnull().sum()[df.isnull().sum() > 0]\n",
    "    # Calculate percentage of NaN for each column\n",
    "    dic_nan = {'sum': columns_with_nans.values, 'percent': np.round(columns_with_nans.values * 100 / df.shape[0], 2)}\n",
    "    # Build a dataframe including only columns with NaNs\n",
    "    df_nan = pd.DataFrame(data=dic_nan, index=columns_with_nans.index)\n",
    "    # Sort by percentage\n",
    "    df_nan.sort_values(by='percent', ascending=False, inplace=True)\n",
    "    return df_nan"
   ]
  },
  {
   "cell_type": "code",
   "execution_count": 36,
   "metadata": {},
   "outputs": [
    {
     "data": {
      "image/png": "[encoded data removed]",
      "text/plain": [
       "<matplotlib.figure.Figure at 0x7ff10c447a90>"
      ]
     },
     "metadata": {
      "needs_background": "light"
     },
     "output_type": "display_data"
    }
   ],
   "source": [
    "# calculate percentage of nan values in each column\n",
    "azdias_nan = extract_columns_with_nan(azdias) \n",
    "# plot the 100 columns with the highest nan percentage\n",
    "azdias_nan.percent[0:100].plot.bar(figsize=(18, 8));"
   ]
  },
  {
   "cell_type": "code",
   "execution_count": 37,
   "metadata": {},
   "outputs": [
    {
     "data": {
      "image/png": "[encoded data removed]",
      "text/plain": [
       "<matplotlib.figure.Figure at 0x7ff10c447ef0>"
      ]
     },
     "metadata": {
      "needs_background": "light"
     },
     "output_type": "display_data"
    }
   ],
   "source": [
    "# drop columns with more than 200000 nan values\n",
    "azdias.drop(drop_columns, axis='columns', inplace=True)\n",
    "\n",
    "azdias_nan = extract_columns_with_nan(azdias)\n",
    "# percentage plot without the droped nan columns (only the 100 highest percentage columns before dropping are considered)\n",
    "azdias_nan.percent[0:100-len(drop_columns)].plot.bar(figsize=(18, 8));"
   ]
  },
  {
   "cell_type": "markdown",
   "metadata": {},
   "source": [
    "### Drop rows with a lot of NaN Values¶"
   ]
  },
  {
   "cell_type": "code",
   "execution_count": 38,
   "metadata": {},
   "outputs": [
    {
     "data": {
      "text/plain": [
       "(array([  7.36923000e+05,   3.65000000e+02,   4.66740000e+04,\n",
       "          1.45600000e+03,   6.36000000e+02,   5.18600000e+03,\n",
       "          9.00000000e+00,   6.62100000e+03,   1.81980000e+04,\n",
       "          7.51530000e+04]),\n",
       " array([   0. ,   24.6,   49.2,   73.8,   98.4,  123. ,  147.6,  172.2,\n",
       "         196.8,  221.4,  246. ]),\n",
       " <a list of 10 Patch objects>)"
      ]
     },
     "execution_count": 38,
     "metadata": {},
     "output_type": "execute_result"
    },
    {
     "data": {
      "image/png": "[encoded data removed]",
      "text/plain": [
       "<matplotlib.figure.Figure at 0x7ff10c0c8748>"
      ]
     },
     "metadata": {
      "needs_background": "light"
     },
     "output_type": "display_data"
    }
   ],
   "source": [
    "# How much data is missing in each row of the dataset?\n",
    "rows_nan = azdias.isna().sum(axis=1).sort_values(ascending=False)\n",
    "#print(rows_nan)\n",
    "plt.hist(rows_nan)"
   ]
  },
  {
   "cell_type": "markdown",
   "metadata": {},
   "source": [
    "The histogram shows, that there are some outliers, where a lot of nan values are in the row but the main rows are nearly completed filled with values. In the next step we will delete the rows with more than 25 NaN values."
   ]
  },
  {
   "cell_type": "code",
   "execution_count": 39,
   "metadata": {},
   "outputs": [],
   "source": [
    "# Rows with more than 25 NaN values\n",
    "drop_rows = list(azdias.isna().sum(axis=1)[azdias.isna().sum(axis=1)>25].index)\n",
    "#print(drop_rows)"
   ]
  },
  {
   "cell_type": "code",
   "execution_count": 40,
   "metadata": {},
   "outputs": [],
   "source": [
    "# drop rows with more than 25 NaN values\n",
    "azdias = azdias.drop(drop_rows)"
   ]
  },
  {
   "cell_type": "markdown",
   "metadata": {},
   "source": [
    "### Drop highly correlated features"
   ]
  },
  {
   "cell_type": "code",
   "execution_count": 41,
   "metadata": {},
   "outputs": [],
   "source": [
    "# Create positive correlation matrix\n",
    "corr_df = azdias.corr().abs()\n",
    "\n",
    "# Creat and apply mask\n",
    "mask = np.triu(np.ones_like(corr_df,dtype=bool))\n",
    "tri_df = corr_df.mask(mask)"
   ]
  },
  {
   "cell_type": "code",
   "execution_count": 42,
   "metadata": {},
   "outputs": [
    {
     "data": {
      "text/plain": [
       "88"
      ]
     },
     "execution_count": 42,
     "metadata": {},
     "output_type": "execute_result"
    }
   ],
   "source": [
    "# Find the columns that meet treshold\n",
    "to_drop = [c for c in tri_df.columns if any(tri_df[c] > 0.7)]\n",
    "len(to_drop)"
   ]
  },
  {
   "cell_type": "code",
   "execution_count": 43,
   "metadata": {},
   "outputs": [
    {
     "name": "stdout",
     "output_type": "stream",
     "text": [
      "['ANZ_HAUSHALTE_AKTIV', 'ANZ_PERSONEN', 'CAMEO_DEUG_2015', 'CJT_TYP_1', 'CJT_TYP_2', 'CJT_TYP_3', 'CJT_TYP_4', 'CJT_TYP_5', 'D19_BANKEN_DATUM', 'D19_GESAMT_DATUM', 'D19_GESAMT_OFFLINE_DATUM', 'D19_GESAMT_ONLINE_DATUM', 'D19_KONSUMTYP_MAX', 'D19_VERSAND_DATUM', 'EINGEZOGENAM_HH_JAHR', 'EWDICHTE', 'FINANZ_ANLEGER', 'FINANZ_MINIMALIST', 'FINANZ_SPARER', 'FINANZ_UNAUFFAELLIGER', 'FINANZ_VORSORGER', 'FIRMENDICHTE', 'GEMEINDETYP', 'KBA05_ANTG1', 'KBA05_AUTOQUOT', 'KBA05_GBZ', 'KBA05_HERST1', 'KBA05_HERST2', 'KBA05_HERST3', 'KBA05_KRSKLEIN', 'KBA05_KRSOBER', 'KBA05_KRSVAN', 'KBA05_KRSZUL', 'KBA05_KW1', 'KBA05_MOD8', 'KBA13_ALTERHALTER_30', 'KBA13_ALTERHALTER_45', 'KBA13_ALTERHALTER_60', 'KBA13_ALTERHALTER_61', 'KBA13_ANTG1', 'KBA13_ANTG2', 'KBA13_ANTG3', 'KBA13_ANTG4', 'KBA13_ANZAHL_PKW', 'KBA13_BAUMAX', 'KBA13_BJ_1999', 'KBA13_BJ_2004', 'KBA13_BMW', 'KBA13_FAB_SONSTIGE', 'KBA13_GBZ', 'KBA13_HALTER_30', 'KBA13_HERST_AUDI_VW', 'KBA13_HERST_BMW_BENZ', 'KBA13_HERST_FORD_OPEL', 'KBA13_HHZ', 'KBA13_KMH_0_140', 'KBA13_KMH_110', 'KBA13_KMH_140_210', 'KBA13_KMH_211', 'KBA13_KRSSEG_VAN', 'KBA13_KW_0_60', 'KBA13_SEG_GROSSRAUMVANS', 'KBA13_SEG_KLEINST', 'KBA13_SEG_MINIVANS', 'KBA13_SITZE_4', 'KKK', 'KOMBIALTER', 'KONSUMNAEHE', 'LP_FAMILIE_FEIN', 'LP_FAMILIE_GROB', 'LP_LEBENSPHASE_FEIN', 'LP_STATUS_FEIN', 'MOBI_RASTER', 'ONLINE_AFFINITAET', 'PLZ8_ANTG1', 'PLZ8_ANTG3', 'PLZ8_ANTG4', 'SEMIO_DOM', 'SEMIO_ERL', 'SEMIO_FAM', 'SEMIO_KAEM', 'SEMIO_KULT', 'SEMIO_PFLICHT', 'SEMIO_REL', 'SEMIO_TRADV', 'SEMIO_VERT', 'VK_DHT4A', 'VK_DISTANZ']\n"
     ]
    }
   ],
   "source": [
    "print(to_drop)"
   ]
  },
  {
   "cell_type": "code",
   "execution_count": 44,
   "metadata": {},
   "outputs": [
    {
     "data": {
      "text/plain": [
       "KBA13_FAB_SONSTIGE   KBA13_HERST_SONST             1.000000\n",
       "LP_LEBENSPHASE_FEIN  LP_LEBENSPHASE_GROB           0.990187\n",
       "LP_FAMILIE_FEIN      LP_FAMILIE_GROB               0.988438\n",
       "LP_STATUS_FEIN       LP_STATUS_GROB                0.985834\n",
       "ANZ_HAUSHALTE_AKTIV  ANZ_STATISTISCHE_HAUSHALTE    0.981809\n",
       "KBA13_GBZ            PLZ8_GBZ                      0.980339\n",
       "LP_FAMILIE_GROB      LP_LEBENSPHASE_GROB           0.971231\n",
       "KBA13_HHZ            PLZ8_HHZ                      0.969418\n",
       "KBA13_KMH_211        KBA13_KMH_250                 0.960268\n",
       "LP_FAMILIE_FEIN      LP_LEBENSPHASE_GROB           0.959978\n",
       "CAMEO_DEUG_2015      CAMEO_INTL_2015               0.955288\n",
       "D19_VERSAND_DATUM    D19_VERSAND_ONLINE_DATUM      0.954553\n",
       "LP_FAMILIE_GROB      LP_LEBENSPHASE_FEIN           0.953918\n",
       "KBA13_BAUMAX         PLZ8_BAUMAX                   0.950241\n",
       "dtype: float64"
      ]
     },
     "execution_count": 44,
     "metadata": {},
     "output_type": "execute_result"
    }
   ],
   "source": [
    "# Print out the the correlation (Pearson’s R)\n",
    "tri_df.unstack().sort_values(ascending=False)[:14]"
   ]
  },
  {
   "cell_type": "code",
   "execution_count": 45,
   "metadata": {},
   "outputs": [],
   "source": [
    "azdias = azdias.drop(to_drop, axis=1)"
   ]
  },
  {
   "cell_type": "markdown",
   "metadata": {},
   "source": [
    "### One-hot encoding categorical features"
   ]
  },
  {
   "cell_type": "code",
   "execution_count": null,
   "metadata": {},
   "outputs": [],
   "source": [
    "# Identify binary and multilevel categorical variables\n",
    "cat_col = feature[feature['type']=='categorical']['attribute']\n",
    "cat_col = [x for x in cat_col if x in azdias.columns]\n",
    "binary = []\n",
    "multilevel = []\n",
    "\n",
    "for col in cat_col:\n",
    "    if azdias[col].nunique() == 2:\n",
    "        binary.append(col)\n",
    "    if (azdias[col].nunique() > 2) & (azdias[col].nunique() < 30):\n",
    "        multilevel.append(col)"
   ]
  },
  {
   "cell_type": "code",
   "execution_count": null,
   "metadata": {},
   "outputs": [],
   "source": [
    "print(multilevel)"
   ]
  },
  {
   "cell_type": "code",
   "execution_count": null,
   "metadata": {},
   "outputs": [],
   "source": [
    "print(binary)"
   ]
  },
  {
   "cell_type": "code",
   "execution_count": null,
   "metadata": {},
   "outputs": [],
   "source": [
    "# manually encoding of binary variables\n",
    "# check if one value is NaN in the column 0\n",
    "azdias[binary[0]].isnull().sum()\n",
    "# no NaN included -> no impute necessary\n",
    "# manualle encoding by substractin 1, to get values 1 and 2 to 0 and 1\n",
    "azdias[binary[0]] = azdias[binary[0]]-1"
   ]
  },
  {
   "cell_type": "code",
   "execution_count": null,
   "metadata": {},
   "outputs": [],
   "source": [
    "# check if one value is NaN in the column 1\n",
    "azdias[binary[1]].isnull().sum()\n",
    "# no NaN included -> no impute necessary\n",
    "#print(azdias[binary[1]])\n",
    "# it is already in the right shape (0s and 1s), nothing to do"
   ]
  },
  {
   "cell_type": "code",
   "execution_count": null,
   "metadata": {},
   "outputs": [],
   "source": [
    "# check if one value is NaN in the column 2\n",
    "azdias[binary[2]].isnull().sum()\n",
    "# no NaN included -> no impute necessary\n",
    "# values are float values, typecast to integer necessary\n",
    "azdias[binary[2]] = azdias[binary[2]].astype(int)\n",
    "#print(azdias[binary[2]])"
   ]
  },
  {
   "cell_type": "code",
   "execution_count": null,
   "metadata": {},
   "outputs": [],
   "source": [
    "# check if one value is NaN in the column 3\n",
    "azdias[binary[3]].isnull().sum()\n",
    "# 36680 NaN values included -> impute necessary\n",
    "azdias[binary[3]].value_counts()[2.0]\n",
    "# 2.0 occurs 370193 times in this variable\n",
    "azdias[binary[3]].value_counts()[1.0]\n",
    "# 1.0 occurs 332936 times in this variable\n",
    "# fill NaN values with most_frequent value -> 2.0\n",
    "azdias[binary[3]]=azdias[binary[3]].fillna(2.0)\n",
    "# typecast to integer\n",
    "azdias[binary[3]] = azdias[binary[3]].astype(int)\n",
    "# substraction of 1 to be in the range of 0 and 1 (instead of 1 and 2)\n",
    "azdias[binary[3]] = azdias[binary[3]]-1\n",
    "#print(azdias[binary[3]])"
   ]
  },
  {
   "cell_type": "code",
   "execution_count": null,
   "metadata": {},
   "outputs": [],
   "source": [
    "# check if one value is NaN in the column 4\n",
    "azdias[binary[4]].isnull().sum()\n",
    "# no NaN included -> no impute necessary\n",
    "# replace W with 1 and O with 0\n",
    "azdias[binary[4]] = azdias[binary[4]].replace('W', 1)\n",
    "azdias[binary[4]] = azdias[binary[4]].replace('O', 0)\n",
    "#print(azdias[binary[4]])"
   ]
  },
  {
   "cell_type": "code",
   "execution_count": null,
   "metadata": {},
   "outputs": [],
   "source": [
    "# Get dummie for multilevel feature, keep binary untouch\n",
    "for feature in multilevel:\n",
    "    #Get dummie for azdias\n",
    "    azdias_notnull = azdias[feature][azdias[feature].notnull()]\n",
    "    dummie_azdias = pd.get_dummies(azdias_notnull,prefix=feature)\n",
    "    azdias.drop(feature, axis=1, inplace=True)\n",
    "    azdias = pd.concat([azdias, dummie_azdias], axis = 1)"
   ]
  },
  {
   "cell_type": "code",
   "execution_count": null,
   "metadata": {},
   "outputs": [],
   "source": [
    "# drop other mixed features\n",
    "azdias = azdias.drop({'LP_LEBENSPHASE_GROB'}, axis=1)\n",
    "azdias = azdias.drop({'PLZ8_BAUMAX'}, axis=1)\n",
    "azdias = azdias.drop({'WOHNLAGE'}, axis=1)\n",
    "azdias_clean.drop(['CAMEO_INTL_2015_LIFE_STAGE'], axis=1, inplace=True)\n",
    "azdias_clean.drop(['CAMEO_INTL_2015_WEALTH'], axis=1, inplace=True)\n",
    "azdias_clean.drop(['EINGEFUEGT_AM'], axis=1, inplace=True)\n",
    "azdias_clean.drop(['CAMEO_DEU_2015'], axis=1, inplace=True)"
   ]
  },
  {
   "cell_type": "code",
   "execution_count": 25,
   "metadata": {},
   "outputs": [],
   "source": [
    "def clean_data(df, drop_rows=True):\n",
    "    # create copy of df\n",
    "    df = df.drop(['D19_LETZTER_KAUF_BRANCHE'],axis=1)\n",
    "    df = df.drop(['EINGEFUEGT_AM'],axis=1)\n",
    "    #df = df[df.isnull().sum(axis=1) <= 16].reset_index(drop=True)\n",
    "\n",
    "    # This part converts types of columns 18 and 19 of azias and coustomers df \n",
    "    # from float to int and from string to NAN\n",
    "    col_names = df.iloc[:,18:20].columns\n",
    "    df[col_names] = df[col_names].replace({'X': -1, 'XX': -1})    \n",
    "    #df_copy[col_names[0]] = pd.to_numeric(df_copy[col_names[0]], downcast=\"float\")\n",
    "    #df_copy[col_names[1]] = pd.to_numeric(df_copy[col_names[1]], downcast=\"float\")\n",
    "    df[col_names] = df[col_names].fillna(-1)\n",
    "    df[col_names] = df[col_names].astype(int)\n",
    "    df[['OST_WEST_KZ', 'CAMEO_DEU_2015']] = df[['OST_WEST_KZ', 'CAMEO_DEU_2015']].fillna(-1)\n",
    "    #df_copy[['OST_WEST_KZ', 'CAMEO_DEU_2015']] df df_copy[['OST_WEST_KZ', 'CAMEO_DEU_2015']].astype(int)\n",
    "    df[['OST_WEST_KZ', 'CAMEO_DEU_2015']] = df[['OST_WEST_KZ', 'CAMEO_DEU_2015']].fillna(-1)\n",
    "\n",
    "    print(\"df columns 18 and 19 converted to float\")\n",
    "    print(\"shape is: \", df.shape)\n",
    "    # Find all columns with more than 200000 NaNs and save them in a list\n",
    "    drop_col = list(df.isna().sum()[df.isna().sum()>200000].index)\n",
    "    # drop columns with more than 200000 nan values\n",
    "    df.drop(drop_col, axis='columns', inplace=True)\n",
    "    print(\"df columns with more than 200000 missing values dropped\")\n",
    "    print(\"dropped columns are: \", drop_col)\n",
    "    print(\"shape is: \", df.shape)\n",
    "    #drop rows with more than 25 missing \n",
    "    if(drop_rows):\n",
    "        df = df.dropna(thresh=df.shape[1]-25)\n",
    "    print(\"df rows with 25 missing values dropped\")\n",
    "    print(\"shape is: \", df.shape)\n",
    "    # Create correlation matrix\n",
    "    corr_matrix = df.corr().abs()\n",
    "    # Select upper triangle of correlation matrix\n",
    "    upper = corr_matrix.where(np.triu(np.ones(corr_matrix.shape), k=1).astype(np.bool))\n",
    "    # Find features with correlation greater than 0.7\n",
    "    to_drop = [column for column in upper.columns if any(upper[column] > 0.7)]\n",
    "    # drop columns with high correlation \n",
    "    df = df.drop(to_drop, axis=1)\n",
    "    print(\"columns with correlation more than 0.7 are dropped\")\n",
    "    \n",
    "    # this is just for the costumer df \n",
    "    list_cost_col = ['CUSTOMER_GROUP', 'ONLINE_PURCHASE', 'PRODUCT_GROUP']\n",
    "    for col in list_cost_col:\n",
    "        if col in df.columns:\n",
    "            df = df.drop([col], inplace=False, axis=1)\n",
    "        print(\"this columns from customer df are dropped: \", ['CUSTOMER_GROUP', 'ONLINE_PURCHASE', 'PRODUCT_GROUP'])\n",
    "        print(\"shape is: \", df.shape)\n",
    "    \n",
    "    #fill object with dummies\n",
    "    df = pd.get_dummies(df)\n",
    "\n",
    "    columns_df = list(df.columns.values)\n",
    "\n",
    "    #imputing the nan value with mode\n",
    "    print('Imputing nan values with mode')\n",
    "    mode_imputer = Imputer(missing_values=np.nan,strategy='most_frequent')\n",
    "    #mode_imputer = mode_imputer.fit(data_df)\n",
    "    df = mode_imputer.fit_transform(df)\n",
    "    df = pd.DataFrame(df)\n",
    "    print('shape after imputing the values', df.shape)\n",
    "\n",
    "    #converting all values in df to int\n",
    "    df = df.astype(int)\n",
    "    \n",
    "    # normalize df\n",
    "    normalize = StandardScaler(copy=False).fit_transform(df)\n",
    "    df = pd.DataFrame(normalize,columns= columns_df)\n",
    "    print('Shape after normalising' , df.shape)\n",
    "        \n",
    "    df = df.set_index('LNR')\n",
    "\n",
    "    return df"
   ]
  },
  {
   "cell_type": "code",
   "execution_count": 9,
   "metadata": {},
   "outputs": [
    {
     "name": "stdout",
     "output_type": "stream",
     "text": [
      "df columns 18 and 19 converted to float\n",
      "shape is:  (891221, 364)\n",
      "df columns with more than 200000 missing values dropped\n",
      "dropped columns are:  ['ALTER_KIND1', 'ALTER_KIND2', 'ALTER_KIND3', 'ALTER_KIND4', 'ALTERSKATEGORIE_FEIN', 'D19_BANKEN_ONLINE_QUOTE_12', 'D19_GESAMT_ONLINE_QUOTE_12', 'D19_KONSUMTYP', 'D19_LOTTO', 'D19_SOZIALES', 'D19_TELKO_ONLINE_QUOTE_12', 'D19_VERSAND_ONLINE_QUOTE_12', 'D19_VERSI_ONLINE_QUOTE_12', 'EXTSEL992', 'KK_KUNDENTYP']\n",
      "shape is:  (891221, 349)\n",
      "df rows with 25 missing values dropped\n",
      "shape is:  (751275, 349)\n",
      "columns with correlation more than 0.7 are dropped\n",
      "this columns from customer df are dropped:  ['CUSTOMER_GROUP', 'ONLINE_PURCHASE', 'PRODUCT_GROUP']\n",
      "shape is:  (751275, 234)\n",
      "this columns from customer df are dropped:  ['CUSTOMER_GROUP', 'ONLINE_PURCHASE', 'PRODUCT_GROUP']\n",
      "shape is:  (751275, 234)\n",
      "this columns from customer df are dropped:  ['CUSTOMER_GROUP', 'ONLINE_PURCHASE', 'PRODUCT_GROUP']\n",
      "shape is:  (751275, 234)\n",
      "Imputing nan values with mode\n",
      "shape after imputing the values (751275, 280)\n",
      "Shape after normalising (751275, 280)\n",
      "df columns 18 and 19 converted to float\n",
      "shape is:  (191652, 367)\n",
      "df columns with more than 200000 missing values dropped\n",
      "dropped columns are:  []\n",
      "shape is:  (191652, 367)\n",
      "df rows with 25 missing values dropped\n",
      "shape is:  (133627, 367)\n",
      "columns with correlation more than 0.7 are dropped\n",
      "this columns from customer df are dropped:  ['CUSTOMER_GROUP', 'ONLINE_PURCHASE', 'PRODUCT_GROUP']\n",
      "shape is:  (133627, 267)\n",
      "this columns from customer df are dropped:  ['CUSTOMER_GROUP', 'ONLINE_PURCHASE', 'PRODUCT_GROUP']\n",
      "shape is:  (133627, 266)\n",
      "this columns from customer df are dropped:  ['CUSTOMER_GROUP', 'ONLINE_PURCHASE', 'PRODUCT_GROUP']\n",
      "shape is:  (133627, 265)\n",
      "Imputing nan values with mode\n",
      "shape after imputing the values (133627, 311)\n",
      "Shape after normalising (133627, 311)\n"
     ]
    }
   ],
   "source": [
    "azdias_cleaned = clean_data(azdias)\n",
    "customers_cleaned = clean_data(customers)"
   ]
  },
  {
   "cell_type": "code",
   "execution_count": 10,
   "metadata": {},
   "outputs": [],
   "source": [
    "# Save the clean dataframe as pickle files\n",
    "azdias_cleaned.to_pickle('./azdias_clean.pkl')\n",
    "customers_cleaned.to_pickle('./customers_clean.pkl')"
   ]
  },
  {
   "cell_type": "markdown",
   "metadata": {},
   "source": [
    "## Dimensionality reduction"
   ]
  },
  {
   "cell_type": "code",
   "execution_count": 67,
   "metadata": {},
   "outputs": [],
   "source": [
    "# load cleaned dataframe\n",
    "azdias_clean = pd.read_pickle('./azdias_clean.pkl')\n",
    "customers_clean = pd.read_pickle('./customers_clean.pkl')"
   ]
  },
  {
   "cell_type": "code",
   "execution_count": 68,
   "metadata": {},
   "outputs": [
    {
     "data": {
      "text/plain": [
       "(751275, 279)"
      ]
     },
     "execution_count": 68,
     "metadata": {},
     "output_type": "execute_result"
    }
   ],
   "source": [
    "azdias_columns = list(azdias_clean)\n",
    "azdias_clean.shape"
   ]
  },
  {
   "cell_type": "code",
   "execution_count": 69,
   "metadata": {},
   "outputs": [
    {
     "data": {
      "text/plain": [
       "(133627, 310)"
      ]
     },
     "execution_count": 69,
     "metadata": {},
     "output_type": "execute_result"
    }
   ],
   "source": [
    "customers_columns = list(customers_clean)\n",
    "customers_clean.shape"
   ]
  },
  {
   "cell_type": "code",
   "execution_count": 71,
   "metadata": {},
   "outputs": [],
   "source": [
    "# drop all columns which are only in azdias and not in customers dataset from azdias\n",
    "diff1 = []\n",
    "for element in azdias_columns:\n",
    "    if element not in customers_columns:\n",
    "        diff1.append(element)\n",
    "azdias_clean.drop(diff1, axis=1, inplace=True)"
   ]
  },
  {
   "cell_type": "code",
   "execution_count": 72,
   "metadata": {},
   "outputs": [],
   "source": [
    "# drop all columns which are only in customers and not in azdias dataset from customers\n",
    "diff2 = []\n",
    "for element in customers_columns:\n",
    "    if element not in azdias_columns:\n",
    "        diff2.append(element)\n",
    "customers_clean.drop(diff2, axis=1, inplace=True)"
   ]
  },
  {
   "cell_type": "code",
   "execution_count": 75,
   "metadata": {},
   "outputs": [
    {
     "name": "stdout",
     "output_type": "stream",
     "text": [
      "(751275, 276)\n",
      "(133627, 276)\n",
      "Any NaNs in azdias? False\n"
     ]
    }
   ],
   "source": [
    "print(azdias_clean.shape)\n",
    "print(customers_clean.shape)\n",
    "print('Any NaNs in azdias?', azdias_clean.isnull().values.any())"
   ]
  },
  {
   "cell_type": "code",
   "execution_count": 76,
   "metadata": {},
   "outputs": [],
   "source": [
    "# use cleaned data for next steps\n",
    "azdias = azdias_clean"
   ]
  },
  {
   "cell_type": "markdown",
   "metadata": {},
   "source": [
    "### Principal Component Analysis"
   ]
  },
  {
   "cell_type": "code",
   "execution_count": 77,
   "metadata": {},
   "outputs": [],
   "source": [
    "from sklearn.decomposition import PCA\n",
    "pca = PCA() \n",
    "pca_df = pca.fit(azdias)"
   ]
  },
  {
   "cell_type": "code",
   "execution_count": 78,
   "metadata": {},
   "outputs": [
    {
     "data": {
      "image/png": "[encoded data removed]",
      "text/plain": [
       "<matplotlib.figure.Figure at 0x7f8bcd1030f0>"
      ]
     },
     "metadata": {
      "needs_background": "light"
     },
     "output_type": "display_data"
    }
   ],
   "source": [
    "# graph for pca\n",
    "plt.figure(figsize=(15,10))\n",
    "plt.plot(np.cumsum(pca_df.explained_variance_ratio_))\n",
    "plt.bar(range(0,len(pca_df.explained_variance_ratio_)), pca_df.explained_variance_ratio_)\n",
    "\n",
    "plt.xlabel('Principal Component')\n",
    "plt.title(\"Explained Variance Per Principal Component\")\n",
    "plt.ylabel('Cumulative Variance')\n",
    "plt.show()"
   ]
  },
  {
   "cell_type": "markdown",
   "metadata": {},
   "source": [
    "The plots above show that the explained variance plateaus a couple of times. The first and sharpest drop-off is around 15 components. At 15 components around 32 % of the total variance is explained. After this we can observe two other, but not as steep drop-offs around 100 and 200 components. At 100 components 66 % of the total variance is explained and at 200 87 %.\n",
    "\n",
    "With each consecutive component less and less variance is explained which means that after a while the amount of additional explained variance probably is not worth the extra number of components.\n",
    "\n",
    "With that said 100 components could be considered a good middle point"
   ]
  },
  {
   "cell_type": "code",
   "execution_count": 79,
   "metadata": {},
   "outputs": [],
   "source": [
    "# Re-apply PCA to the data while selecting for number of components to retain.\n",
    "# out of the scree_plot we can see that we need approximatelly 25 components to reach a cumulative varaince explained of 85%.\n",
    "pca = PCA(n_components=100) \n",
    "azdias_pca = pca.fit_transform(azdias)"
   ]
  },
  {
   "cell_type": "code",
   "execution_count": 80,
   "metadata": {},
   "outputs": [
    {
     "name": "stdout",
     "output_type": "stream",
     "text": [
      "Most wieghted features for the component  1\n",
      "                           weight\n",
      "KBA13_KMH_180           -0.057171\n",
      "KBA05_ANTG3             -0.056201\n",
      "HH_EINKOMMEN_SCORE      -0.054018\n",
      "ARBEIT                  -0.050536\n",
      "KBA13_SEG_KOMPAKTKLASSE -0.050296\n",
      "                 weight\n",
      "KBA05_MAXSEG   0.196791\n",
      "KBA05_DIESEL   0.202704\n",
      "KBA05_MOTRAD   0.208322\n",
      "KBA05_ANHANG   0.211360\n",
      "KBA05_KRSOBER  0.223660\n"
     ]
    }
   ],
   "source": [
    "def print_component(pca, comp):\n",
    "    if comp <= len(pca.components_):\n",
    "        weight_df = pd.DataFrame({'weight': pca.components_[comp]}, index=azdias.columns)\n",
    "        print(\"Most wieghted features for the component \", comp)\n",
    "        print(weight_df.sort_values(by=['weight']).head(5))\n",
    "        print(weight_df.sort_values(by=['weight']).tail(5))\n",
    "    else:\n",
    "        print('That is not the right input, please read the docstring before continuing.')\n",
    "        \n",
    "#Plot the first component\n",
    "print_component(pca, 1)"
   ]
  },
  {
   "cell_type": "code",
   "execution_count": 81,
   "metadata": {},
   "outputs": [
    {
     "name": "stdout",
     "output_type": "stream",
     "text": [
      "Most wieghted features for the component  2\n",
      "                               weight\n",
      "KBA13_SEG_OBEREMITTELKLASSE -0.192442\n",
      "KBA13_BMW                   -0.185609\n",
      "KBA13_SITZE_4               -0.182478\n",
      "KBA13_SEG_SPORTWAGEN        -0.169902\n",
      "KBA13_SEG_OBERKLASSE        -0.150997\n",
      "                           weight\n",
      "KBA13_ALTERHALTER_60     0.133523\n",
      "KBA13_SEG_KOMPAKTKLASSE  0.135319\n",
      "OST_WEST_KZ_O            0.141275\n",
      "KBA13_HALTER_20          0.143699\n",
      "KBA13_KMH_140_210        0.162351\n"
     ]
    }
   ],
   "source": [
    "# Print the second component\n",
    "print_component(pca, 2)"
   ]
  },
  {
   "cell_type": "code",
   "execution_count": 82,
   "metadata": {},
   "outputs": [
    {
     "name": "stdout",
     "output_type": "stream",
     "text": [
      "Most wieghted features for the component  3\n",
      "                     weight\n",
      "CJT_TYP_6         -0.239836\n",
      "CJT_KATALOGNUTZER -0.202504\n",
      "SEMIO_LUST        -0.173222\n",
      "RETOURTYP_BK_S    -0.163170\n",
      "AGER_TYP          -0.162013\n",
      "                  weight\n",
      "SEMIO_RAT       0.211843\n",
      "FINANZ_ANLEGER  0.214405\n",
      "SEMIO_TRADV     0.216694\n",
      "SEMIO_PFLICHT   0.225798\n",
      "CJT_TYP_1       0.257949\n"
     ]
    }
   ],
   "source": [
    "# Print the third component\n",
    "print_component(pca, 3)"
   ]
  },
  {
   "cell_type": "markdown",
   "metadata": {},
   "source": [
    "### Clustering"
   ]
  },
  {
   "cell_type": "code",
   "execution_count": 12,
   "metadata": {},
   "outputs": [
    {
     "name": "stdout",
     "output_type": "stream",
     "text": [
      "[1, 2, 3, 4, 5, 6, 7, 8, 9, 10, 11, 12, 13, 14, 15, 16, 17, 18, 19, 20, 21, 22, 23, 24, 25, 26, 27, 28, 29]\n",
      "1\n",
      "143122754.938\n",
      "2\n",
      "135045966.703\n",
      "3\n",
      "125486807.613\n",
      "4\n",
      "121414998.51\n",
      "5\n",
      "118409403.633\n",
      "6\n",
      "116009536.062\n",
      "7\n",
      "114385821.775\n",
      "8\n",
      "113088482.018\n",
      "9\n",
      "111953456.074\n",
      "10\n",
      "111035580.339\n",
      "11\n",
      "110041447.53\n",
      "12\n",
      "109586759.924\n",
      "13\n",
      "108784013.66\n",
      "14\n",
      "108081994.765\n",
      "15\n",
      "107540600.417\n",
      "16\n",
      "107048527.223\n",
      "17\n",
      "106528418.409\n",
      "18\n",
      "105756561.289\n",
      "19\n",
      "105224298.114\n",
      "20\n",
      "104900560.748\n",
      "21\n",
      "104370712.55\n",
      "22\n",
      "104461069.212\n",
      "23\n",
      "103806053.307\n",
      "24\n",
      "103234595.486\n",
      "25\n",
      "103120107.269\n",
      "26\n",
      "102544689.246\n",
      "27\n",
      "102292931.37\n",
      "28\n",
      "101697215.789\n",
      "29\n",
      "101512421.571\n"
     ]
    }
   ],
   "source": [
    "from sklearn.cluster import KMeans\n",
    "\n",
    "scores = []\n",
    "cluster_values = list(range(1,30))\n",
    "print (cluster_values)\n",
    "for cv in cluster_values:\n",
    "    print(cv)\n",
    "    kmeans = KMeans(n_clusters=cv)\n",
    "    kmeans.fit(azdias_pca)\n",
    "    print(kmeans.inertia_)\n",
    "    scores.append(kmeans.inertia_)"
   ]
  },
  {
   "cell_type": "code",
   "execution_count": 14,
   "metadata": {},
   "outputs": [
    {
     "data": {
      "text/plain": [
       "Text(0,0.5,'cluster distance')"
      ]
     },
     "execution_count": 14,
     "metadata": {},
     "output_type": "execute_result"
    },
    {
     "data": {
      "image/png": "[encoded data removed]",
      "text/plain": [
       "<matplotlib.figure.Figure at 0x7f8bccda3668>"
      ]
     },
     "metadata": {
      "needs_background": "light"
     },
     "output_type": "display_data"
    }
   ],
   "source": [
    "# Plot for elbow method\n",
    "plt.plot(cluster_values, scores, marker = \"o\")\n",
    "plt.xlabel('number of clusters')\n",
    "plt.ylabel('cluster distance')"
   ]
  },
  {
   "cell_type": "code",
   "execution_count": 83,
   "metadata": {},
   "outputs": [],
   "source": [
    "kmeans_final = KMeans(11)\n",
    "model_final = kmeans_final.fit(azdias_pca)\n",
    "predicted_data_general = model_final.predict(azdias_pca)"
   ]
  },
  {
   "cell_type": "code",
   "execution_count": 84,
   "metadata": {},
   "outputs": [],
   "source": [
    "#apply all to customers data\n",
    "# Dimensionality Reduction\n",
    "finalized_dataset_customer = pca.transform(customers_clean)\n",
    "\n",
    "# clustering\n",
    "predicted_data_customer = model_final.predict(finalized_dataset_customer)"
   ]
  },
  {
   "cell_type": "code",
   "execution_count": 93,
   "metadata": {},
   "outputs": [
    {
     "data": {
      "image/png": "[encoded data removed]",
      "text/plain": [
       "<matplotlib.figure.Figure at 0x7f8bcce1b898>"
      ]
     },
     "metadata": {
      "needs_background": "light"
     },
     "output_type": "display_data"
    }
   ],
   "source": [
    "# Compare the proportion of data in each cluster for the customer data to the\n",
    "# proportion of data in each cluster for the general population.\n",
    "X=[]\n",
    "Y_gen = []\n",
    "Y_cust = []\n",
    "for i in range(11):\n",
    "    nr_cl_gen = np.sum(predicted_data_general==i)/len(predicted_data_general)*100\n",
    "    nr_cl_cust = np.sum(predicted_data_customer==i)/len(predicted_data_customer)*100\n",
    "    X.append(str(i+1))\n",
    "    Y_gen.append(nr_cl_gen)\n",
    "    Y_cust.append(nr_cl_cust)\n",
    "    \n",
    "#nr_cl1_gen = np.sum(predicted_data_general==0)/len(predicted_data_general)*100\n",
    "#nr_cl2_gen = np.sum(predicted_data_general==1)/len(predicted_data_general)*100\n",
    "#nr_cl3_gen = np.sum(predicted_data_general==2)/len(predicted_data_general)*100\n",
    "#nr_cl4_gen = np.sum(predicted_data_general==3)/len(predicted_data_general)*100\n",
    "#nr_cl1_cust = np.sum(predicted_data_customer==0)/len(predicted_data_customer)*100\n",
    "#nr_cl2_cust = np.sum(predicted_data_customer==1)/len(predicted_data_customer)*100\n",
    "#nr_cl3_cust = np.sum(predicted_data_customer==2)/len(predicted_data_customer)*100\n",
    "#nr_cl4_cust = np.sum(predicted_data_customer==3)/len(predicted_data_customer)*100\n",
    "\n",
    "#X = ['Cluster1', 'Cluster2', 'Cluster3', 'Cluster4']\n",
    "#Y_gen = [nr_cl1_gen, nr_cl2_gen, nr_cl3_gen, nr_cl4_gen]\n",
    "#Y_cust = [nr_cl1_cust, nr_cl2_cust, nr_cl3_cust, nr_cl4_cust]\n",
    "\n",
    "X_axis = np.arange(len(X))\n",
    "\n",
    "plt.subplots(figsize=(15, 5))\n",
    "plt.bar(X_axis - 0.2, Y_gen, 0.4, label = 'general')\n",
    "plt.bar(X_axis +0.2, Y_cust, 0.4, label = 'customer')\n",
    "\n",
    "plt.xticks(X_axis, X)\n",
    "plt.xlabel('Clusters')\n",
    "plt.ylabel('Percentage assigned to each cluster')\n",
    "plt.legend()\n",
    "plt.show()"
   ]
  },
  {
   "cell_type": "code",
   "execution_count": 94,
   "metadata": {},
   "outputs": [
    {
     "name": "stdout",
     "output_type": "stream",
     "text": [
      "[ -2.91049494e+00   6.30163240e-01   1.51173829e+00  -5.68093825e-01\n",
      "  -3.25975749e+00  -7.59836126e-01   9.84222627e-01  -2.42868518e-01\n",
      "  -7.25644214e-02   3.33233340e-01   3.36361949e-01   3.82876049e-02\n",
      "   3.16243383e-01  -2.86338855e-01  -1.43021420e-01   1.20980102e-02\n",
      "   1.73336486e-01  -9.25247052e-02   5.92893109e-02   1.83210687e-01\n",
      "  -3.41905497e-02   4.55421917e-02  -1.14654647e-02  -1.04474207e-01\n",
      "   1.96950449e-01  -9.45857203e-02   1.62115240e-01   1.97350511e-02\n",
      "   4.73639496e-02  -5.06290910e-02   5.56013036e-02  -1.20872175e-02\n",
      "   1.24732997e-01  -2.42536739e-02  -1.54030828e-01  -4.15630165e-02\n",
      "   3.86420910e-02  -2.89820820e-02  -1.22297740e-02  -4.33443694e-04\n",
      "  -1.24463882e-01   1.08538634e-01  -5.45351970e-02  -6.54347164e-03\n",
      "  -8.26252474e-03   5.62112499e-02  -3.83579575e-02  -2.00454192e-01\n",
      "  -9.98600545e-02   7.79582699e-02  -1.85657109e-02   3.82311817e-02\n",
      "  -5.84560658e-02   1.04487084e-01   6.03388140e-02   4.09075548e-02\n",
      "   4.89409768e-02  -3.05544611e-02   2.55519253e-03   4.45590044e-02\n",
      "  -8.64816701e-02  -6.20915217e-02   6.60826382e-02   3.03140823e-03\n",
      "  -7.37234989e-03   2.83735103e-02  -4.69568304e-03   3.61948636e-02\n",
      "  -2.32361593e-02  -1.46299630e-02  -2.82814720e-02  -2.21137560e-02\n",
      "   3.57595441e-02   1.73291677e-02  -1.92165096e-02  -3.93105018e-03\n",
      "  -9.01168295e-03   8.59904542e-02   5.50489423e-04  -1.84596311e-02\n",
      "   6.22263568e-03   4.64093290e-03  -6.39043295e-02   5.42771024e-02\n",
      "  -3.38877771e-02   7.53581295e-02  -2.54960661e-03  -5.12671660e-02\n",
      "  -3.72169046e-02  -1.11595508e-02   3.60954305e-02  -9.30218898e-02\n",
      "  -4.43858342e-02   1.30678189e-02  -2.10306086e-02   3.12299517e-02\n",
      "  -5.47367587e-03   2.74496917e-02   1.64714519e-02  -5.22368250e-02]\n",
      "2.93909802899\n",
      "(array([3]),)\n",
      "Most wieghted features for the component  0\n",
      "                   weight\n",
      "KBA05_ANTG1     -0.170673\n",
      "KBA13_ANTG1     -0.166566\n",
      "MOBI_RASTER     -0.161622\n",
      "KBA05_GBZ       -0.160789\n",
      "KBA13_AUTOQUOTE -0.147516\n",
      "                      weight\n",
      "EWDICHTE            0.118364\n",
      "ARBEIT              0.130208\n",
      "FINANZ_HAUSBAUER    0.140464\n",
      "CAMEO_DEUG_2015     0.173089\n",
      "HH_EINKOMMEN_SCORE  0.176055\n"
     ]
    },
    {
     "data": {
      "image/png": "[encoded data removed]",
      "text/plain": [
       "<matplotlib.figure.Figure at 0x7f8bccd69668>"
      ]
     },
     "metadata": {
      "needs_background": "light"
     },
     "output_type": "display_data"
    }
   ],
   "source": [
    "# What kinds of people are part of a cluster that is overrepresented in the\n",
    "# customer data compared to the general population?\n",
    "# get the center of cluster 2, which is overrepresented\n",
    "print(model_final.cluster_centers_[1])\n",
    "# find maximum value and the index of it\n",
    "max_val = np.amax(model_final.cluster_centers_[3])\n",
    "print(max_val)\n",
    "print(np.where(model_final.cluster_centers_[3] == max_val))\n",
    "#plot\n",
    "plt.plot(model_final.cluster_centers_[3])\n",
    "# index is 0, print most weighted features of component 0\n",
    "print_component(pca, 0)"
   ]
  },
  {
   "cell_type": "code",
   "execution_count": 95,
   "metadata": {},
   "outputs": [
    {
     "name": "stdout",
     "output_type": "stream",
     "text": [
      "[  4.65787310e+00  -2.78370097e+00   3.45480630e+00  -1.44837262e+00\n",
      "   2.01998661e+00   2.41112523e+00  -4.48072077e-01  -2.88402636e-01\n",
      "  -1.84552330e-01  -2.39194548e-01   2.55640314e-01   2.78676181e-01\n",
      "   3.43242992e-01   3.28131063e-03  -1.09726040e-01   2.71365159e-01\n",
      "  -9.73249987e-02  -3.74869121e-02  -5.96335643e-01  -1.28101359e-01\n",
      "  -2.43187642e-01  -2.10907145e-01   3.36565412e-02  -1.10605339e-02\n",
      "   5.71066014e-02   1.32361474e-01  -2.05560615e-02  -2.09011107e-02\n",
      "  -4.50219194e-03  -1.75319963e-01  -1.80029784e-01   1.53043867e-02\n",
      "   1.86729585e-01  -1.31780770e-02  -1.23062035e-01  -2.99138007e-01\n",
      "  -1.07121957e-01   1.85930309e-01   9.64093500e-02   1.20434602e-01\n",
      "  -2.93835366e-01   7.08691781e-02   1.08140193e-01   4.69076483e-02\n",
      "   4.07174050e-02  -1.12947757e-01   8.35365342e-03  -2.14498885e-01\n",
      "  -2.35218461e-02  -8.31327237e-02   8.78057510e-02  -5.56878787e-02\n",
      "   2.29052584e-02   1.07124332e-01  -1.02270818e-01  -6.73318074e-03\n",
      "   1.44345954e-01   8.84730432e-03  -3.72151138e-02   1.00863921e-01\n",
      "   2.48105697e-02  -2.96233060e-02   8.11255582e-02  -2.54848938e-02\n",
      "  -7.26396632e-03   3.28125907e-02   1.87206823e-03   2.08921825e-03\n",
      "   1.71241004e-02  -1.25431304e-02  -1.67510922e-02  -2.58670518e-03\n",
      "   4.51254851e-02  -1.47205816e-02  -4.17317582e-02   8.93765511e-03\n",
      "  -2.14117214e-02   8.32340269e-03   8.92846759e-02  -5.39163252e-02\n",
      "   5.54411441e-02  -4.85868335e-02  -5.90794138e-03   1.25857922e-02\n",
      "   2.03925415e-02  -7.21189779e-02  -2.22198357e-02   7.73013306e-02\n",
      "  -9.25872541e-03   2.62155664e-02   5.59262487e-02  -8.09053303e-02\n",
      "  -4.00047114e-03   3.58837088e-02   2.74847966e-02  -1.94686711e-02\n",
      "  -5.49902889e-02   7.41538283e-02  -2.75955624e-02   3.29785045e-03]\n",
      "(array([2]),)\n",
      "Most wieghted features for the component  1\n",
      "                           weight\n",
      "KBA13_KMH_180           -0.057171\n",
      "KBA05_ANTG3             -0.056201\n",
      "HH_EINKOMMEN_SCORE      -0.054018\n",
      "ARBEIT                  -0.050536\n",
      "KBA13_SEG_KOMPAKTKLASSE -0.050296\n",
      "                 weight\n",
      "KBA05_MAXSEG   0.196791\n",
      "KBA05_DIESEL   0.202704\n",
      "KBA05_MOTRAD   0.208322\n",
      "KBA05_ANHANG   0.211360\n",
      "KBA05_KRSOBER  0.223660\n"
     ]
    },
    {
     "data": {
      "image/png": "[encoded data removed]",
      "text/plain": [
       "<matplotlib.figure.Figure at 0x7f8bccf9e0b8>"
      ]
     },
     "metadata": {
      "needs_background": "light"
     },
     "output_type": "display_data"
    }
   ],
   "source": [
    "# What kinds of people are part of a cluster that is underrepresented in the\n",
    "# customer data compared to the general population?\n",
    "\n",
    "# Cluster3 is underpresented in the customer dataset\n",
    "# transform cluster center back, using 2 because here we start counting from 0\n",
    "#scaler.inverse_transform(pca.inverse_transform(model_final.cluster_centers_[1]))\n",
    "# get the center of cluster 3\n",
    "print(model_final.cluster_centers_[2])\n",
    "# find maximum value and the index of it\n",
    "max_val = np.amax(model_final.cluster_centers_[1])\n",
    "print(np.where(model_final.cluster_centers_[1] == max_val))\n",
    "#plot\n",
    "plt.plot(model_final.cluster_centers_[1])\n",
    "# index is 1, print most weighted features of component 1\n",
    "print_component(pca, 1)\n"
   ]
  },
  {
   "cell_type": "markdown",
   "metadata": {},
   "source": [
    "### Discussion\n",
    "\n",
    "The percentage of the customer in cluster 2 is much higher than the percentage of the general data in cluster 2. Therefore cluster 2 is overpresentated from the customer data. In cluster 2 are people with high income, representing the upper class and the build mostly there own house. They are the target people, they are popular with the company.\n",
    "\n",
    "The percentage of the customer data in cluster 3 is much lower than the percentage of the general data in cluster 3. Therefore cluster 3 is underpresentated from the customer data. In cluster 2 are people with low income and they are sharing a lot of stuff like cars. The are unpopular with the company"
   ]
  },
  {
   "cell_type": "markdown",
   "metadata": {},
   "source": [
    "## Part 2: Supervised Learning Model\n",
    "\n",
    "Now that you've found which parts of the population are more likely to be customers of the mail-order company, it's time to build a prediction model. Each of the rows in the \"MAILOUT\" data files represents an individual that was targeted for a mailout campaign. Ideally, we should be able to use the demographic information from each individual to decide whether or not it will be worth it to include that person in the campaign.\n",
    "\n",
    "The \"MAILOUT\" data has been split into two approximately equal parts, each with almost 43 000 data rows. In this part, you can verify your model with the \"TRAIN\" partition, which includes a column, \"RESPONSE\", that states whether or not a person became a customer of the company following the campaign. In the next part, you'll need to create predictions on the \"TEST\" partition, where the \"RESPONSE\" column has been withheld."
   ]
  },
  {
   "cell_type": "code",
   "execution_count": 46,
   "metadata": {},
   "outputs": [
    {
     "name": "stderr",
     "output_type": "stream",
     "text": [
      "/opt/conda/lib/python3.6/site-packages/IPython/core/interactiveshell.py:2785: DtypeWarning: Columns (18,19) have mixed types. Specify dtype option on import or set low_memory=False.\n",
      "  interactivity=interactivity, compiler=compiler, result=result)\n"
     ]
    },
    {
     "data": {
      "text/plain": [
       "(42962, 367)"
      ]
     },
     "execution_count": 46,
     "metadata": {},
     "output_type": "execute_result"
    }
   ],
   "source": [
    "mailout_train = pd.read_csv('../../data/Term2/capstone/arvato_data/Udacity_MAILOUT_052018_TRAIN.csv', sep=';')\n",
    "\n",
    "mailout_train.shape"
   ]
  },
  {
   "cell_type": "code",
   "execution_count": 49,
   "metadata": {},
   "outputs": [
    {
     "name": "stdout",
     "output_type": "stream",
     "text": [
      "0    42430\n",
      "1      532\n",
      "Name: RESPONSE, dtype: int64\n"
     ]
    },
    {
     "data": {
      "text/plain": [
       "<matplotlib.axes._subplots.AxesSubplot at 0x7ff10a20bf60>"
      ]
     },
     "execution_count": 49,
     "metadata": {},
     "output_type": "execute_result"
    },
    {
     "data": {
      "image/png": "[encoded data removed]",
      "text/plain": [
       "<matplotlib.figure.Figure at 0x7ff10a1fdeb8>"
      ]
     },
     "metadata": {
      "needs_background": "light"
     },
     "output_type": "display_data"
    }
   ],
   "source": [
    "print(mailout_train.RESPONSE.value_counts())\n",
    "sns.countplot(\"RESPONSE\", data=mailout_train)"
   ]
  },
  {
   "cell_type": "code",
   "execution_count": 97,
   "metadata": {},
   "outputs": [
    {
     "data": {
      "text/plain": [
       "(42962,)"
      ]
     },
     "execution_count": 97,
     "metadata": {},
     "output_type": "execute_result"
    }
   ],
   "source": [
    "X_train = mailout_train.drop('RESPONSE', axis=1)\n",
    "y_train = mailout_train['RESPONSE']\n",
    "y_train.shape"
   ]
  },
  {
   "cell_type": "code",
   "execution_count": 98,
   "metadata": {},
   "outputs": [
    {
     "data": {
      "text/plain": [
       "(42962, 366)"
      ]
     },
     "execution_count": 98,
     "metadata": {},
     "output_type": "execute_result"
    }
   ],
   "source": [
    "X_train.shape"
   ]
  },
  {
   "cell_type": "code",
   "execution_count": 99,
   "metadata": {},
   "outputs": [
    {
     "name": "stdout",
     "output_type": "stream",
     "text": [
      "df columns 18 and 19 converted to float\n",
      "shape is:  (42962, 364)\n",
      "df columns with more than 200000 missing values dropped\n",
      "dropped columns are:  []\n",
      "shape is:  (42962, 364)\n",
      "df rows with 25 missing values dropped\n",
      "shape is:  (42962, 364)\n",
      "columns with correlation more than 0.7 are dropped\n",
      "this columns from customer df are dropped:  ['CUSTOMER_GROUP', 'ONLINE_PURCHASE', 'PRODUCT_GROUP']\n",
      "shape is:  (42962, 254)\n",
      "this columns from customer df are dropped:  ['CUSTOMER_GROUP', 'ONLINE_PURCHASE', 'PRODUCT_GROUP']\n",
      "shape is:  (42962, 254)\n",
      "this columns from customer df are dropped:  ['CUSTOMER_GROUP', 'ONLINE_PURCHASE', 'PRODUCT_GROUP']\n",
      "shape is:  (42962, 254)\n",
      "Imputing nan values with mode\n",
      "shape after imputing the values (42962, 301)\n",
      "Shape after normalising (42962, 301)\n"
     ]
    }
   ],
   "source": [
    "df_train  = clean_data(X_train, False)"
   ]
  },
  {
   "cell_type": "code",
   "execution_count": 100,
   "metadata": {},
   "outputs": [],
   "source": [
    "#split into test and train data\n",
    "X_train, X_test, y_train, y_test = train_test_split(df_train, y_train, test_size=0.3, random_state=42)"
   ]
  },
  {
   "cell_type": "code",
   "execution_count": 101,
   "metadata": {},
   "outputs": [],
   "source": [
    "# Create pipeline for classifier\n",
    "pipeline = Pipeline([('classifier', RandomForestClassifier())])\n",
    "\n",
    "paramter = [{'classifier': [RandomForestClassifier()],\n",
    "                 'classifier__n_estimators': [10, 50, 100],\n",
    "                 'classifier__max_features': [1, 2, 3]},\n",
    "            {'classifier': [GradientBoostingRegressor(random_state=42)],\n",
    "                 'classifier__n_estimators': [50, 100, 200],\n",
    "                 'classifier__min_samples_split': [2, 3, 4]}]"
   ]
  },
  {
   "cell_type": "code",
   "execution_count": 102,
   "metadata": {},
   "outputs": [],
   "source": [
    "#grid search\n",
    "cv_obj = GridSearchCV(estimator=pipeline, param_grid=paramter, scoring = 'roc_auc')\n",
    "\n",
    "#modelfit\n",
    "cv_fit = cv_obj.fit(X_train, y_train)\n",
    "\n"
   ]
  },
  {
   "cell_type": "code",
   "execution_count": 103,
   "metadata": {},
   "outputs": [
    {
     "name": "stdout",
     "output_type": "stream",
     "text": [
      "ROC score on test data: 0.760528389941\n"
     ]
    }
   ],
   "source": [
    "# get the best classifier\n",
    "choosen_classfier = cv_fit.best_estimator_\n",
    "clf_predictions = choosen_classfier.predict(X_test)\n",
    "\n",
    "print(\"ROC score on test data:\", roc_auc_score(y_test, clf_predictions))"
   ]
  },
  {
   "cell_type": "code",
   "execution_count": 104,
   "metadata": {},
   "outputs": [
    {
     "data": {
      "text/plain": [
       "Pipeline(memory=None,\n",
       "     steps=[('classifier', GradientBoostingRegressor(alpha=0.9, criterion='friedman_mse', init=None,\n",
       "             learning_rate=0.1, loss='ls', max_depth=3, max_features=None,\n",
       "             max_leaf_nodes=None, min_impurity_decrease=0.0,\n",
       "             min_impurity_split=None, min_samples_leaf=1,\n",
       "             min_samples_split=3, min_weight_fraction_leaf=0.0,\n",
       "             n_estimators=50, presort='auto', random_state=42,\n",
       "             subsample=1.0, verbose=0, warm_start=False))])"
      ]
     },
     "execution_count": 104,
     "metadata": {},
     "output_type": "execute_result"
    }
   ],
   "source": [
    "choosen_classfier"
   ]
  },
  {
   "cell_type": "code",
   "execution_count": 105,
   "metadata": {},
   "outputs": [
    {
     "data": {
      "text/plain": [
       "5"
      ]
     },
     "execution_count": 105,
     "metadata": {},
     "output_type": "execute_result"
    }
   ],
   "source": [
    "# doing cross validation\n",
    "stratfiedkfold = StratifiedKFold(n_splits=5, shuffle=True, random_state=42)\n",
    "stratfiedkfold.get_n_splits(X_train, y_train)"
   ]
  },
  {
   "cell_type": "code",
   "execution_count": 106,
   "metadata": {},
   "outputs": [],
   "source": [
    "model = GradientBoostingRegressor(n_estimators=50, min_samples_split=3, random_state=42)\n",
    "score = cross_val_score(model, X_train, y_train, cv=stratfiedkfold, scoring='roc_auc', n_jobs=1)"
   ]
  },
  {
   "cell_type": "code",
   "execution_count": 107,
   "metadata": {},
   "outputs": [
    {
     "data": {
      "text/plain": [
       "0.7519956356693297"
      ]
     },
     "execution_count": 107,
     "metadata": {},
     "output_type": "execute_result"
    }
   ],
   "source": [
    "score.mean()"
   ]
  },
  {
   "cell_type": "code",
   "execution_count": 108,
   "metadata": {},
   "outputs": [
    {
     "data": {
      "text/plain": [
       "array([ 0.75184741,  0.7644229 ,  0.76978284,  0.74109447,  0.73283056])"
      ]
     },
     "execution_count": 108,
     "metadata": {},
     "output_type": "execute_result"
    }
   ],
   "source": [
    "score"
   ]
  }
 ],
 "metadata": {
  "kernelspec": {
   "display_name": "Python 3",
   "language": "python",
   "name": "python3"
  },
  "language_info": {
   "codemirror_mode": {
    "name": "ipython",
    "version": 3
   },
   "file_extension": ".py",
   "mimetype": "text/x-python",
   "name": "python",
   "nbconvert_exporter": "python",
   "pygments_lexer": "ipython3",
   "version": "3.6.3"
  }
 },
 "nbformat": 4,
 "nbformat_minor": 2
}
